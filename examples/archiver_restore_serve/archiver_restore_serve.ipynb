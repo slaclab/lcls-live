{
 "cells": [
  {
   "cell_type": "markdown",
   "id": "6bee9c74-102a-4d30-81af-2df37fd47310",
   "metadata": {},
   "source": [
    "# Restore and serve EPICS PVs from the Archiver\n",
    "\n",
    "Using a simple JSON file to seed a dict of `pvname:{'value':value}`, this will acquire values from the archiver, and run a simple EPICS server locally. "
   ]
  },
  {
   "cell_type": "code",
   "execution_count": 1,
   "id": "0aef74b8-64ac-4e93-a0da-acea59f1b483",
   "metadata": {},
   "outputs": [],
   "source": [
    "from lcls_live.archiver import lcls_archiver_restore\n",
    "import json\n",
    "import os"
   ]
  },
  {
   "cell_type": "code",
   "execution_count": 2,
   "id": "755d9e8c-9f54-4829-822c-64ed8c3cd907",
   "metadata": {},
   "outputs": [],
   "source": [
    "# A list of some interesting PVs\n",
    "PVDB_JSON = 'data/live_model_PVDB.json'\n",
    "\n",
    "# Pick a proper time\n",
    "ISOTIME = '2021-04-13T15:14:00.000000-07:00'"
   ]
  },
  {
   "cell_type": "code",
   "execution_count": 3,
   "id": "c8d89bab-2028-4a6a-b479-220cf3c7657d",
   "metadata": {},
   "outputs": [],
   "source": [
    "# Get starting PVDB\n",
    "prefix = ''\n",
    "pvdb = json.load(open(PVDB_JSON))"
   ]
  },
  {
   "cell_type": "code",
   "execution_count": 4,
   "id": "4ea96c95-eb20-4c36-8605-45a0cf1260c9",
   "metadata": {},
   "outputs": [],
   "source": [
    "# Add some extras for fun\n",
    "extra_pvs = ['BMLN:LI21:235:MOTR',\n",
    " 'BMLN:LI24:805:MOTR',\n",
    " 'ACCL:LI22:1:PDES',\n",
    " 'ACCL:LI25:1:PDES']\n",
    "for pv in extra_pvs:\n",
    "    pvdb[pv] = {}"
   ]
  },
  {
   "cell_type": "code",
   "execution_count": 5,
   "id": "19611ab7-7c44-4782-96f4-2bd3c9ea3f76",
   "metadata": {},
   "outputs": [],
   "source": [
    "# Optional: update from live EPICS\n",
    "# import epics\n",
    "# \n",
    "# pvnames = list(pvdb)\n",
    "# vals = epics.caget_many(list(pvdb))\n",
    "# pvdb = {}\n",
    "# for name, val in zip(pvnames, vals):\n",
    "#     pvdb[name] = {'value':val}\n",
    "# "
   ]
  },
  {
   "cell_type": "code",
   "execution_count": 6,
   "id": "4fcba21a-0a93-468b-b4b2-8d4c40f4b166",
   "metadata": {},
   "outputs": [],
   "source": [
    "# Optional: \n",
    "\n",
    "# Open an SSH tunnel in a terminal like:\n",
    "# ssh -D 8080 <SLAC username>@<SLAC machine>\n",
    "# And then set:\n",
    "os.environ['http_proxy']='socks5h://localhost:8080'\n",
    "os.environ['HTTPS_PROXY']='socks5h://localhost:8080'\n",
    "os.environ['ALL_PROXY']='socks5h://localhost:8080'"
   ]
  },
  {
   "cell_type": "code",
   "execution_count": 7,
   "id": "557f8038-a535-488e-aa63-710eb7a7c48a",
   "metadata": {
    "tags": []
   },
   "outputs": [
    {
     "name": "stdout",
     "output_type": "stream",
     "text": [
      "Requesting: http://lcls-archapp.slac.stanford.edu/retrieval/data/getDataAtTime?at=2021-04-13T15:14:00.000000-07:00&includeProxies=true\n",
      "Warning: Missing PV: SBST:LI20:1:PHAS\n",
      "Warning: Missing PV: GUN:IN20:1:GN1_AAVG\n",
      "Warning: Missing PV: GUN:IN20:1:GN1_PAVG\n",
      "Warning: Missing PV: ACCL:IN20:300:L0A_AAVG\n",
      "Warning: Missing PV: ACCL:IN20:300:L0A_PAVG\n",
      "Warning: Missing PV: ACCL:IN20:400:L0B_AAVG\n",
      "Warning: Missing PV: ACCL:IN20:400:L0B_PAVG\n",
      "Warning: Missing PV: ACCL:LI21:1:L1S_AAVG\n",
      "Warning: Missing PV: ACCL:LI21:1:L1S_PAVG\n",
      "Warning: Missing PV: ACCL:LI21:180:L1X_AAVG\n",
      "Warning: Missing PV: ACCL:LI21:180:L1X_PAVG\n",
      "KLYS:LI24:61:PHAS Bad value: None\n",
      "KLYS:LI25:11:PHAS Bad value: None\n",
      "KLYS:LI25:21:PHAS Bad value: None\n",
      "KLYS:LI25:31:PHAS Bad value: None\n",
      "KLYS:LI25:41:PHAS Bad value: None\n",
      "KLYS:LI25:51:PHAS Bad value: None\n",
      "KLYS:LI25:61:PHAS Bad value: None\n",
      "KLYS:LI25:71:PHAS Bad value: None\n",
      "KLYS:LI25:81:PHAS Bad value: None\n",
      "KLYS:LI26:11:PHAS Bad value: None\n",
      "KLYS:LI26:21:PHAS Bad value: None\n",
      "KLYS:LI26:41:PHAS Bad value: None\n",
      "KLYS:LI26:51:PHAS Bad value: None\n",
      "KLYS:LI26:61:PHAS Bad value: None\n",
      "KLYS:LI26:71:PHAS Bad value: None\n",
      "KLYS:LI26:81:PHAS Bad value: None\n",
      "KLYS:LI27:11:PHAS Bad value: None\n",
      "KLYS:LI27:21:PHAS Bad value: None\n",
      "KLYS:LI27:41:PHAS Bad value: None\n",
      "KLYS:LI27:51:PHAS Bad value: None\n",
      "KLYS:LI27:81:PHAS Bad value: None\n",
      "KLYS:LI28:11:PHAS Bad value: None\n",
      "KLYS:LI28:21:PHAS Bad value: None\n",
      "KLYS:LI28:31:PHAS Bad value: None\n",
      "KLYS:LI28:41:PHAS Bad value: None\n",
      "KLYS:LI28:51:PHAS Bad value: None\n",
      "KLYS:LI28:61:PHAS Bad value: None\n",
      "KLYS:LI28:71:PHAS Bad value: None\n",
      "KLYS:LI28:81:PHAS Bad value: None\n",
      "KLYS:LI29:11:PHAS Bad value: None\n",
      "KLYS:LI29:31:PHAS Bad value: None\n",
      "KLYS:LI29:41:PHAS Bad value: None\n",
      "KLYS:LI29:51:PHAS Bad value: None\n",
      "KLYS:LI30:31:PHAS Bad value: None\n",
      "KLYS:LI30:41:PHAS Bad value: None\n",
      "KLYS:LI30:51:PHAS Bad value: None\n",
      "KLYS:LI30:61:PHAS Bad value: None\n"
     ]
    }
   ],
   "source": [
    "# Update\n",
    "new_pvdata = lcls_archiver_restore(list(pvdb), ISOTIME)\n",
    "for k, v in new_pvdata.items():\n",
    "#    print(pvdb[k]['value'], v)\n",
    "    if v is None:\n",
    "        print(k, 'Bad value:', v)\n",
    "    else:\n",
    "        pvdb[k]['value'] = v"
   ]
  },
  {
   "cell_type": "code",
   "execution_count": 8,
   "id": "16d9391e-425a-4516-ad0b-853fef257651",
   "metadata": {},
   "outputs": [],
   "source": [
    "# Dump to file for safekeeping\n",
    "outfile = f'data/live_model_PVDB-{ISOTIME}.json'\n",
    "json.dump(pvdb, open(outfile, 'w'))"
   ]
  },
  {
   "cell_type": "markdown",
   "id": "0f4b6536-559f-48ea-a3b6-541b7801be5b",
   "metadata": {},
   "source": [
    "# SimpleServer from pcaspy\n",
    "\n",
    "This following is adapted from:\n",
    "https://pcaspy.readthedocs.io/en/latest/tutorial.html"
   ]
  },
  {
   "cell_type": "code",
   "execution_count": 9,
   "id": "52174656-6c76-4076-ae79-a559d0430a5f",
   "metadata": {},
   "outputs": [
    {
     "ename": "ModuleNotFoundError",
     "evalue": "No module named 'pcaspy'",
     "output_type": "error",
     "traceback": [
      "\u001b[0;31m---------------------------------------------------------------------------\u001b[0m",
      "\u001b[0;31mModuleNotFoundError\u001b[0m                       Traceback (most recent call last)",
      "Input \u001b[0;32mIn [9]\u001b[0m, in \u001b[0;36m<cell line: 1>\u001b[0;34m()\u001b[0m\n\u001b[0;32m----> 1\u001b[0m \u001b[38;5;28;01mfrom\u001b[39;00m \u001b[38;5;21;01mpcaspy\u001b[39;00m \u001b[38;5;28;01mimport\u001b[39;00m Driver, SimpleServer\n",
      "\u001b[0;31mModuleNotFoundError\u001b[0m: No module named 'pcaspy'"
     ]
    }
   ],
   "source": [
    "from pcaspy import Driver, SimpleServer"
   ]
  },
  {
   "cell_type": "code",
   "execution_count": 10,
   "id": "26e68fa1-0470-4f1a-8e91-fb4a509c6585",
   "metadata": {},
   "outputs": [
    {
     "ename": "NameError",
     "evalue": "name 'Driver' is not defined",
     "output_type": "error",
     "traceback": [
      "\u001b[0;31m---------------------------------------------------------------------------\u001b[0m",
      "\u001b[0;31mNameError\u001b[0m                                 Traceback (most recent call last)",
      "Input \u001b[0;32mIn [10]\u001b[0m, in \u001b[0;36m<cell line: 1>\u001b[0;34m()\u001b[0m\n\u001b[0;32m----> 1\u001b[0m \u001b[38;5;28;01mclass\u001b[39;00m \u001b[38;5;21;01mmyDriver\u001b[39;00m(\u001b[43mDriver\u001b[49m):\n\u001b[1;32m      2\u001b[0m     \u001b[38;5;28;01mdef\u001b[39;00m \u001b[38;5;21m__init__\u001b[39m(\u001b[38;5;28mself\u001b[39m):\n\u001b[1;32m      3\u001b[0m         \u001b[38;5;28msuper\u001b[39m(myDriver, \u001b[38;5;28mself\u001b[39m)\u001b[38;5;241m.\u001b[39m\u001b[38;5;21m__init__\u001b[39m()\n",
      "\u001b[0;31mNameError\u001b[0m: name 'Driver' is not defined"
     ]
    }
   ],
   "source": [
    "class myDriver(Driver):\n",
    "    def __init__(self):\n",
    "        super(myDriver, self).__init__()\n",
    "        \n",
    "    def getParam(self, reason):\n",
    "        #print('myDriver.getParam', reason) \n",
    "        return super().getParam(reason)"
   ]
  },
  {
   "cell_type": "code",
   "execution_count": 12,
   "id": "13a4fdfa-3721-409d-a3e8-b6c273576007",
   "metadata": {},
   "outputs": [],
   "source": [
    "server = SimpleServer()\n",
    "server.createPV(prefix, pvdb)\n",
    "driver = myDriver()"
   ]
  },
  {
   "cell_type": "code",
   "execution_count": null,
   "id": "b0c54c44-92a0-4942-8c1a-700417f452b7",
   "metadata": {
    "tags": []
   },
   "outputs": [],
   "source": [
    "while True:\n",
    "    # process CA transactions\n",
    "    server.process(0.1)"
   ]
  },
  {
   "cell_type": "code",
   "execution_count": 14,
   "id": "b8840bcf-c157-44d1-8cc6-5a4eb5457d29",
   "metadata": {},
   "outputs": [],
   "source": [
    "# cleanup\n",
    "os.remove(outfile)"
   ]
  }
 ],
 "metadata": {
  "kernelspec": {
   "display_name": "Python 3 (ipykernel)",
   "language": "python",
   "name": "python3"
  },
  "language_info": {
   "codemirror_mode": {
    "name": "ipython",
    "version": 3
   },
   "file_extension": ".py",
   "mimetype": "text/x-python",
   "name": "python",
   "nbconvert_exporter": "python",
   "pygments_lexer": "ipython3",
   "version": "3.9.13"
  }
 },
 "nbformat": 4,
 "nbformat_minor": 5
}
