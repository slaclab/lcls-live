{
 "cells": [
  {
   "cell_type": "markdown",
   "metadata": {},
   "source": [
    "# EPICS Proxy example\n",
    "\n",
    "The epics proxy should provide methods that look the same as those in pyepics\n",
    "https://cars9.uchicago.edu/software/python/pyepics3/\n"
   ]
  },
  {
   "cell_type": "code",
   "execution_count": 1,
   "metadata": {},
   "outputs": [],
   "source": [
    "# Useful for debugging\n",
    "%load_ext autoreload\n",
    "%autoreload 2"
   ]
  },
  {
   "cell_type": "code",
   "execution_count": 2,
   "metadata": {},
   "outputs": [],
   "source": [
    "from lcls_live.epics import epics_proxy\n",
    "import os"
   ]
  },
  {
   "cell_type": "code",
   "execution_count": 3,
   "metadata": {},
   "outputs": [
    {
     "name": "stdout",
     "output_type": "stream",
     "text": [
      "Loaded data/epics_snapshot_2018-03-06T15:21:15.000000-08:00.json with 2065 PVs\n"
     ]
    }
   ],
   "source": [
    "epics = epics_proxy('data/epics_snapshot_2018-03-06T15:21:15.000000-08:00.json', verbose=True)"
   ]
  },
  {
   "cell_type": "code",
   "execution_count": 4,
   "metadata": {},
   "outputs": [
    {
     "data": {
      "text/plain": [
       "['ACCL:IN20:350:FUDGE',\n",
       " 'ACCL:LI21:180:L1X_S_AV',\n",
       " 'ACCL:LI21:180:L1X_S_PV',\n",
       " 'ACCL:LI21:1:FUDGE',\n",
       " 'ACCL:LI21:1:L1S_S_PV',\n",
       " 'ACCL:LI22:1:FUDGE',\n",
       " 'ACCL:LI24:100:KLY_PDES',\n",
       " 'ACCL:LI24:200:KLY_PDES',\n",
       " 'ACCL:LI24:300:KLY_PDES',\n",
       " 'ACCL:LI25:1:FUDGE']"
      ]
     },
     "execution_count": 4,
     "metadata": {},
     "output_type": "execute_result"
    }
   ],
   "source": [
    "# Data is kept internally as a dict in .pvdata:\n",
    "list(epics.pvdata)[0:10]"
   ]
  },
  {
   "cell_type": "code",
   "execution_count": 5,
   "metadata": {},
   "outputs": [
    {
     "data": {
      "text/plain": [
       "115.836"
      ]
     },
     "execution_count": 5,
     "metadata": {},
     "output_type": "execute_result"
    }
   ],
   "source": [
    "# caget fetches from .pvdata\n",
    "epics.caget('KLYS:LI21:11:ENLD')"
   ]
  },
  {
   "cell_type": "code",
   "execution_count": 6,
   "metadata": {},
   "outputs": [
    {
     "data": {
      "text/plain": [
       "3"
      ]
     },
     "execution_count": 6,
     "metadata": {},
     "output_type": "execute_result"
    }
   ],
   "source": [
    "# caput writes to .pvdata\n",
    "epics.caput('KLYS:LI21:11:ENLD', 3)\n",
    "epics.caget('KLYS:LI21:11:ENLD')"
   ]
  },
  {
   "cell_type": "code",
   "execution_count": 7,
   "metadata": {},
   "outputs": [
    {
     "name": "stdout",
     "output_type": "stream",
     "text": [
      "PV for KLYS:LI21:11:ENLD\n"
     ]
    },
    {
     "data": {
      "text/plain": [
       "3"
      ]
     },
     "execution_count": 7,
     "metadata": {},
     "output_type": "execute_result"
    }
   ],
   "source": [
    "# PV\n",
    "pv = epics.PV('KLYS:LI21:11:ENLD')\n",
    "pv.get()"
   ]
  },
  {
   "cell_type": "code",
   "execution_count": 8,
   "metadata": {},
   "outputs": [
    {
     "data": {
      "text/plain": [
       "[3,\n",
       " -26.12494033014282,\n",
       " -24.5,\n",
       " 0,\n",
       " 1,\n",
       " 1048577.0,\n",
       " [1610612738.0, 528640.0],\n",
       " 1.0,\n",
       " 20.01551950520014,\n",
       " -159.9562692633193]"
      ]
     },
     "execution_count": 8,
     "metadata": {},
     "output_type": "execute_result"
    }
   ],
   "source": [
    "# caget_many \n",
    "epics.caget_many(['KLYS:LI21:11:ENLD',\n",
    " 'ACCL:LI21:1:L1S_S_PV',\n",
    " 'KLYS:LI21:11:PDES',\n",
    " 'KLYS:LI21:11:SWRD',\n",
    " 'KLYS:LI21:11:STAT',\n",
    " 'KLYS:LI21:11:HDSC',\n",
    " 'KLYS:LI21:11:DSTA',\n",
    " 'KLYS:LI21:11:BEAMCODE1_STAT',\n",
    " 'ACCL:LI21:180:L1X_S_AV',\n",
    " 'ACCL:LI21:180:L1X_S_PV'])"
   ]
  },
  {
   "cell_type": "code",
   "execution_count": 9,
   "metadata": {},
   "outputs": [
    {
     "name": "stdout",
     "output_type": "stream",
     "text": [
      "Saved test.json\n"
     ]
    }
   ],
   "source": [
    "# Non-epics routine to save .pvdata to a JSON file\n",
    "epics.save(filename='test.json')"
   ]
  },
  {
   "cell_type": "code",
   "execution_count": 10,
   "metadata": {},
   "outputs": [
    {
     "name": "stdout",
     "output_type": "stream",
     "text": [
      "Loaded test.json with 2065 PVs\n"
     ]
    }
   ],
   "source": [
    "# Corresponding load routine\n",
    "epics.load(filename='test.json')"
   ]
  },
  {
   "cell_type": "code",
   "execution_count": 11,
   "metadata": {},
   "outputs": [],
   "source": [
    "# Cleanup\n",
    "os.remove('test.json')"
   ]
  },
  {
   "cell_type": "markdown",
   "metadata": {},
   "source": [
    "# Nested proxies"
   ]
  },
  {
   "cell_type": "code",
   "execution_count": 12,
   "metadata": {},
   "outputs": [
    {
     "name": "stdout",
     "output_type": "stream",
     "text": [
      "Loaded data/epics_snapshot_2018-03-06T15:21:15.000000-08:00.json with 2065 PVs\n"
     ]
    }
   ],
   "source": [
    "# Start with a 'base' source of epics data\n",
    "epics0 = epics_proxy('data/epics_snapshot_2018-03-06T15:21:15.000000-08:00.json', verbose=True)\n",
    "\n",
    "# Make another proxy\n",
    "epics1 = epics_proxy('cache.json', epics=epics0, verbose=True)"
   ]
  },
  {
   "cell_type": "code",
   "execution_count": 13,
   "metadata": {},
   "outputs": [
    {
     "name": "stdout",
     "output_type": "stream",
     "text": [
      "Error: pv not cached: KLYS:LI21:11:ENLD\n",
      "Loading from epics\n"
     ]
    },
    {
     "data": {
      "text/plain": [
       "115.836"
      ]
     },
     "execution_count": 13,
     "metadata": {},
     "output_type": "execute_result"
    }
   ],
   "source": [
    "# Get a value\n",
    "epics1.caget('KLYS:LI21:11:ENLD')"
   ]
  },
  {
   "cell_type": "code",
   "execution_count": 14,
   "metadata": {},
   "outputs": [
    {
     "data": {
      "text/plain": [
       "{'KLYS:LI21:11:ENLD': 115.836}"
      ]
     },
     "execution_count": 14,
     "metadata": {},
     "output_type": "execute_result"
    }
   ],
   "source": [
    "# This is the internal data\n",
    "epics1.pvdata"
   ]
  },
  {
   "cell_type": "code",
   "execution_count": 15,
   "metadata": {},
   "outputs": [
    {
     "data": {
      "text/plain": [
       "[115.836, [1610612738.0, 528640.0]]"
      ]
     },
     "execution_count": 15,
     "metadata": {},
     "output_type": "execute_result"
    }
   ],
   "source": [
    "epics1.caget_many(['KLYS:LI21:11:ENLD', 'KLYS:LI21:11:DSTA'])"
   ]
  },
  {
   "cell_type": "code",
   "execution_count": 16,
   "metadata": {},
   "outputs": [
    {
     "data": {
      "text/plain": [
       "{'KLYS:LI21:11:ENLD': 115.836}"
      ]
     },
     "execution_count": 16,
     "metadata": {},
     "output_type": "execute_result"
    }
   ],
   "source": [
    "# This is the internal data\n",
    "epics1.pvdata"
   ]
  },
  {
   "cell_type": "code",
   "execution_count": 17,
   "metadata": {},
   "outputs": [
    {
     "name": "stdout",
     "output_type": "stream",
     "text": [
      "Saved cache.json\n"
     ]
    }
   ],
   "source": [
    "# Save to JSON\n",
    "epics1.save()"
   ]
  },
  {
   "cell_type": "code",
   "execution_count": 18,
   "metadata": {},
   "outputs": [],
   "source": [
    "# Cleanup\n",
    "os.remove('cache.json')"
   ]
  }
 ],
 "metadata": {
  "kernelspec": {
   "display_name": "Python 3 (ipykernel)",
   "language": "python",
   "name": "python3"
  },
  "language_info": {
   "codemirror_mode": {
    "name": "ipython",
    "version": 3
   },
   "file_extension": ".py",
   "mimetype": "text/x-python",
   "name": "python",
   "nbconvert_exporter": "python",
   "pygments_lexer": "ipython3",
   "version": "3.9.13"
  }
 },
 "nbformat": 4,
 "nbformat_minor": 4
}
