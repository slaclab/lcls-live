{
 "cells": [
  {
   "cell_type": "markdown",
   "id": "ff6180e4-ec7f-4aa7-8911-9706eaab94d5",
   "metadata": {},
   "source": [
    "# `sc_linac` Live"
   ]
  },
  {
   "cell_type": "code",
   "execution_count": 1,
   "id": "2133c8f3",
   "metadata": {},
   "outputs": [
    {
     "data": {
      "text/plain": [
       "'/Users/mpe/miniconda3/envs/lcls-live-dev/lib/python3.8/os.py'"
      ]
     },
     "execution_count": 1,
     "metadata": {},
     "output_type": "execute_result"
    }
   ],
   "source": [
    "import lcls_live\n",
    "import os\n",
    "os.__file__"
   ]
  },
  {
   "cell_type": "code",
   "execution_count": 2,
   "id": "c8629902-88b6-4f74-9352-9ed5a8dcef83",
   "metadata": {},
   "outputs": [],
   "source": [
    "# Useful for debugging\n",
    "%load_ext autoreload\n",
    "%autoreload 2\n",
    "\n",
    "%config InlineBackend.figure_format = 'retina'\n",
    "%matplotlib inline"
   ]
  },
  {
   "cell_type": "code",
   "execution_count": 3,
   "id": "e39b4706-f357-4ebc-9adc-55a33b376220",
   "metadata": {},
   "outputs": [],
   "source": [
    "from lcls_live.datamaps import get_datamaps\n",
    "from lcls_live.archiver import lcls_archiver_restore\n",
    "\n",
    "from lcls_live.tools import isotime\n",
    "\n",
    "import matplotlib.pyplot as plt\n",
    "import numpy as np\n",
    "\n",
    "import os"
   ]
  },
  {
   "cell_type": "code",
   "execution_count": 4,
   "id": "791d2fa6-05cd-4813-a307-843b84fd140d",
   "metadata": {},
   "outputs": [],
   "source": [
    "# Pick a model and slice\n",
    "\n",
    "MODEL = 'sc_bsyd' # or sc_diag0 or sc_inj\n",
    "\n",
    "BEGELE = 'BEGINNING'\n",
    "#ENDELE = 'OTR0H04'\n",
    "#ENDELE = 'ENDCOL0'\n",
    "ENDELE = 'END'"
   ]
  },
  {
   "cell_type": "markdown",
   "id": "bbdbf72a-9063-4a2c-a9d9-2d427fa1588e",
   "metadata": {},
   "source": [
    "# Bmad model"
   ]
  },
  {
   "cell_type": "code",
   "execution_count": 5,
   "id": "bad53071-c9d1-46b8-8def-ac712aad4cb9",
   "metadata": {},
   "outputs": [],
   "source": [
    "from pytao import Tao\n",
    "import pandas as pd"
   ]
  },
  {
   "cell_type": "code",
   "execution_count": 6,
   "id": "fd5ec66a-c8d2-411f-a170-65f452c0d406",
   "metadata": {},
   "outputs": [],
   "source": [
    "tao = Tao(f'-init $LCLS_LATTICE/bmad/models/{MODEL}/tao.init  -slice  {BEGELE}:{ENDELE}')\n",
    "tao.cmd('place floor bpm_orbit')\n",
    "tao.cmd('place middle energy')\n",
    "tao.cmd('sc floor -10 10')\n",
    "\n",
    "def ele_info(ele):\n",
    "    dat = tao.ele_head(ele)\n",
    "    dat.update(tao.ele_gen_attribs(ele))\n",
    "    return dat\n",
    "\n",
    "def ele_table(match=\"*\"):\n",
    "    ix_ele = tao.lat_list(match, \"ele.ix_ele\", flags=\"-no_slaves\")\n",
    "    dat = list(map(ele_info, ix_ele))\n",
    "    df = pd.DataFrame(dat, index=ix_ele)\n",
    "    df.L.fillna(0, inplace=True)\n",
    "    df['s_center'] = df['s'] - df['L']/2\n",
    "    df['s_beginning'] = df['s'] - df['L']\n",
    "    return  df\n",
    "\n",
    "df = ele_table()\n",
    "\n",
    "# Elements with device names\n",
    "devices = df[df['alias'] != '']\n",
    "#devices['name alias s'.split()]"
   ]
  },
  {
   "cell_type": "code",
   "execution_count": 7,
   "id": "9b8951e3",
   "metadata": {},
   "outputs": [
    {
     "name": "stdout",
     "output_type": "stream",
     "text": [
      "['       Name                                      Using for Optimization', '    begtwiss[1:6]', '    gradient_L0[1:8]', '    phi0_L0[1:8]', '    q_HTR[1:8]', '    q_L1[1:5]', '    q_L2[1:4]', '    q_L3[1:4]', '    linac_phase[1:4]', '    q_COL1[1:4]', '    q_EMIT2[1:4]', '    bc1[1:1]', '    bc2[1:1]', '    xcor[1:93]', '    ycor[1:93]']\n"
     ]
    }
   ],
   "source": [
    "tao.cmd('x_scale * 0 800')\n",
    "print(tao.cmd('sho var'))"
   ]
  },
  {
   "cell_type": "markdown",
   "id": "0f16a169-96d7-42b4-85a9-edd2694a0d3d",
   "metadata": {},
   "source": [
    "## Datamaps, and all PVs needed"
   ]
  },
  {
   "cell_type": "code",
   "execution_count": 8,
   "id": "bf51c97d-7be2-4be7-9b29-6004c89d70c2",
   "metadata": {},
   "outputs": [],
   "source": [
    "from copy import deepcopy\n",
    "def filter_datamap(dm, bmad_names):\n",
    "    bnames = dm.data['bmad_name'] \n",
    "    bmad_names = set(bmad_names)\n",
    "    ix = bnames[[name in bmad_names for name in bnames]].index\n",
    "    dm2 = deepcopy(dm)\n",
    "    dm2.data = dm.data.loc[ix]\n",
    "    return dm2"
   ]
  },
  {
   "cell_type": "code",
   "execution_count": 9,
   "id": "a2dfa10b-5b17-4854-be99-6c90c9b11658",
   "metadata": {},
   "outputs": [
    {
     "data": {
      "text/plain": [
       "dict_keys(['bpms', 'cavities', 'correctors', 'tao_energy_measurements', 'quad', 'quad_corrector', 'solenoid'])"
      ]
     },
     "execution_count": 9,
     "metadata": {},
     "output_type": "execute_result"
    }
   ],
   "source": [
    "DM0 = get_datamaps(MODEL)\n",
    "DM0.keys()"
   ]
  },
  {
   "cell_type": "code",
   "execution_count": 10,
   "id": "456e089d-38f1-4ec0-9b90-ff8478019b38",
   "metadata": {},
   "outputs": [],
   "source": [
    "good_names = set(df['name'])\n",
    "bad_eles = [] # any bad eles\n",
    "\n",
    "for ele in bad_eles:\n",
    "    good_names.remove(ele)\n",
    "\n",
    "DM = {}\n",
    "for name, dm in DM0.items():\n",
    "    if name == 'tao_energy_measurements':\n",
    "        # don't filter\n",
    "        DM[name] = dm\n",
    "    else:\n",
    "        DM[name] = filter_datamap(dm, good_names)\n",
    "\n",
    "DM['cavities'];"
   ]
  },
  {
   "cell_type": "code",
   "execution_count": 11,
   "id": "7e237216-0ea2-4dd4-9c85-fb0310f59b64",
   "metadata": {},
   "outputs": [],
   "source": [
    "# datamaps to exclude\n",
    "DENYLIST = [\n",
    "    #'bpms',\n",
    "   # 'cavities',\n",
    "    'correctors',\n",
    "    #'quad',\n",
    "]"
   ]
  },
  {
   "cell_type": "code",
   "execution_count": 20,
   "id": "49cbb944-b46c-42e5-bf39-e6bcaef41023",
   "metadata": {},
   "outputs": [
    {
     "data": {
      "text/plain": [
       "['BPMS:EMIT2:150:X',\n",
       " 'ACCL:L2B:0630:AACTMEAN',\n",
       " 'ACCL:L2B:0770:AACTMEAN',\n",
       " 'BPMS:HTR:760:X',\n",
       " 'ACCL:L3B:3530:PACTMEAN',\n",
       " 'ACCL:L2B:1250:PACTMEAN',\n",
       " 'ACCL:L2B:1470:PACTMEAN',\n",
       " 'ACCL:L1B:H220:PACTMEAN',\n",
       " 'ACCL:L3B:2080:AACTMEAN',\n",
       " 'ACCL:L3B:1970:AACTMEAN']"
      ]
     },
     "execution_count": 20,
     "metadata": {},
     "output_type": "execute_result"
    }
   ],
   "source": [
    "# PVs needed\n",
    "PVLIST =  []\n",
    "for name, dm in DM.items():\n",
    "    if name in DENYLIST:\n",
    "        continue\n",
    "    PVLIST.extend(dm.pvlist)\n",
    "PVLIST = list(set(PVLIST))\n",
    "len(PVLIST)\n",
    "PVLIST[0:10]"
   ]
  },
  {
   "cell_type": "code",
   "execution_count": 21,
   "id": "62a4379d",
   "metadata": {},
   "outputs": [
    {
     "name": "stdout",
     "output_type": "stream",
     "text": [
      "Requesting: http://lcls-archapp.slac.stanford.edu/retrieval/data/getDataAtTime?at=2023-06-08T23:09:50.000000-07:00&includeProxies=true\n",
      "Warning: Missing PV: BPMS:EMIT2:150:X\n",
      "Warning: Missing PV: BPMS:HTR:760:X\n",
      "Warning: Missing PV: BPMS:DOG:740:X\n",
      "Warning: Missing PV: BPMS:SPD:955:TMIT\n",
      "Warning: Missing PV: BPMS:DOG:575:Y\n",
      "Warning: Missing PV: BPMS:BPN16:400:Y\n",
      "Warning: Missing PV: BPMS:COL1:120:Y\n",
      "Warning: Missing PV: BPMS:DOG:120:TMIT\n",
      "Warning: Missing PV: BPMS:EXT:748:X\n",
      "Warning: Missing PV: BPMS:BPN24:400:Y\n",
      "Warning: Missing PV: BPMS:SLTD:895:Y\n",
      "Warning: Missing PV: BPMS:DOG:355:TMIT\n",
      "Warning: Missing PV: BPMS:DOG:280:X\n",
      "Warning: Missing PV: BPMS:BPN22:400:TMIT\n",
      "Warning: Missing PV: BPMS:L3B:1783:Y\n",
      "Warning: Missing PV: BPMS:BPN26:400:TMIT\n",
      "Warning: Missing PV: BPMS:L2B:1383:X\n",
      "Warning: Missing PV: BPMS:L2B:1183:Y\n",
      "Warning: Missing PV: BPMS:BPN13:400:Y\n",
      "Warning: Missing PV: BPMS:L3B:1883:TMIT\n",
      "Warning: Missing PV: BPMS:BC1B:125:Y\n",
      "Warning: Missing PV: BPMS:L3B:3383:Y\n",
      "Warning: Missing PV: BPMS:DOG:230:Y\n",
      "Warning: Missing PV: BPMS:BPN26:400:X\n",
      "Warning: Missing PV: BPMS:L3B:2483:Y\n",
      "Warning: Missing PV: BPMS:DOG:250:TMIT\n",
      "Warning: Missing PV: BPMS:COL0:400:Y\n",
      "Warning: Missing PV: BPMS:L3B:2283:Y\n",
      "Warning: Missing PV: BPMS:SLTD:625:Y\n",
      "Warning: Missing PV: BPMS:COL1:800:Y\n",
      "Warning: Missing PV: BPMS:L3B:2383:X\n",
      "Warning: Missing PV: BPMS:BPN27:400:TMIT\n",
      "Warning: Missing PV: BPMS:HTR:540:X\n",
      "Warning: Missing PV: BPMS:BPN15:400:X\n",
      "Warning: Missing PV: BPMS:BPN15:400:Y\n",
      "Warning: Missing PV: ACCL:GUNB:455:AACT_AVG\n",
      "Warning: Missing PV: BPMS:BPN17:400:Y\n",
      "Warning: Missing PV: BPMS:L2B:0883:TMIT\n",
      "Warning: Missing PV: BPMS:COL0:940:X\n",
      "Warning: Missing PV: BPMS:L1B:0283:X\n",
      "Warning: Missing PV: BPMS:DOG:335:X\n",
      "Warning: Missing PV: BPMS:BPN19:400:X\n",
      "Warning: Missing PV: BPMS:BC2B:530:Y\n",
      "Warning: Missing PV: BPMS:HTR:960:X\n",
      "Warning: Missing PV: BPMS:DOG:200:X\n",
      "Warning: Missing PV: BPMS:DOG:740:TMIT\n",
      "Warning: Missing PV: BPMS:COL0:800:X\n",
      "Warning: Missing PV: BPMS:L3B:2083:X\n",
      "Warning: Missing PV: BPMS:L3B:2883:TMIT\n",
      "Warning: Missing PV: BPMS:L0B:0183:X\n",
      "Warning: Missing PV: BPMS:BPN28:400:X\n",
      "Warning: Missing PV: BPMS:L3B:2183:TMIT\n",
      "Warning: Missing PV: BPMS:BPN14:400:TMIT\n",
      "Warning: Missing PV: BPMS:L2B:0483:X\n",
      "Warning: Missing PV: BPMS:BPN23:400:TMIT\n",
      "Warning: Missing PV: BPMS:EMIT2:900:TMIT\n",
      "Warning: Missing PV: BPMS:HTR:980:X\n",
      "Warning: Missing PV: BPMS:DOG:150:X\n",
      "Warning: Missing PV: BPMS:L3B:2183:X\n",
      "Warning: Missing PV: BPMS:COL0:320:X\n",
      "Warning: Missing PV: BPMS:L3B:3483:Y\n",
      "Warning: Missing PV: BPMS:L2B:0783:Y\n",
      "Warning: Missing PV: BPMS:COL1:880:Y\n",
      "Warning: Missing PV: BPMS:SPD:525:TMIT\n",
      "Warning: Missing PV: BPMS:L2B:0583:TMIT\n",
      "Warning: Missing PV: BPMS:COL0:940:Y\n",
      "Warning: Missing PV: BPMS:COL1:280:Y\n",
      "Warning: Missing PV: BPMS:SPD:955:X\n",
      "Warning: Missing PV: BPMS:HTR:320:Y\n",
      "Warning: Missing PV: BPMS:SPD:420:TMIT\n",
      "Warning: Missing PV: BPMS:EMIT2:300:Y\n",
      "Warning: Missing PV: BPMS:L2B:0483:Y\n",
      "Warning: Missing PV: BPMS:BPN25:400:Y\n",
      "Warning: Missing PV: BPMS:DOG:135:TMIT\n",
      "Warning: Missing PV: BPMS:COL0:400:X\n",
      "Warning: Missing PV: BPMS:BPN18:400:X\n",
      "Warning: Missing PV: BPMS:BPN18:400:Y\n",
      "Warning: Missing PV: BPMS:COL1:640:TMIT\n",
      "Warning: Missing PV: BPMS:BPN20:400:Y\n",
      "Warning: Missing PV: BPMS:COL1:560:Y\n",
      "Warning: Missing PV: BPMS:DOG:355:Y\n",
      "Warning: Missing PV: BPMS:L3B:3183:X\n",
      "Warning: Missing PV: BPMS:EXT:351:X\n",
      "Warning: Missing PV: BPMS:L2B:0983:TMIT\n",
      "Warning: Missing PV: BPMS:COL1:640:Y\n",
      "Warning: Missing PV: BPMS:L2B:1583:Y\n",
      "Warning: Missing PV: BPMS:L1B:H283:TMIT\n",
      "Warning: Missing PV: BPMS:DOG:120:X\n",
      "Warning: Missing PV: BPMS:COL1:960:TMIT\n",
      "Warning: Missing PV: BPMS:L3B:1783:X\n",
      "Warning: Missing PV: BPMS:COL1:260:X\n",
      "Warning: Missing PV: BPMS:COL0:880:X\n",
      "Warning: Missing PV: BPMS:L2B:1083:Y\n",
      "Warning: Missing PV: BPMS:L2B:0683:X\n",
      "Warning: Missing PV: BPMS:L3B:2583:TMIT\n",
      "Warning: Missing PV: BPMS:HTR:540:Y\n",
      "Warning: Missing PV: BPMS:COL0:135:TMIT\n",
      "Warning: Missing PV: BPMS:COL0:720:TMIT\n",
      "Warning: Missing PV: BPMS:COL0:720:X\n",
      "Warning: Missing PV: BPMS:EMIT2:150:Y\n",
      "Warning: Missing PV: BPMS:L3B:1883:X\n",
      "Warning: Missing PV: BPMS:COL1:720:Y\n",
      "Warning: Missing PV: BPMS:SLTD:895:X\n",
      "Warning: Missing PV: BPMS:COL1:120:TMIT\n",
      "Warning: Missing PV: BPMS:COL0:280:TMIT\n",
      "Warning: Missing PV: BPMS:DOG:230:X\n",
      "Warning: Missing PV: BPMS:HTR:365:Y\n",
      "Warning: Missing PV: BPMS:EXT:748:Y\n",
      "Warning: Missing PV: BPMS:L3B:2783:X\n",
      "Warning: Missing PV: BPMS:COL0:560:Y\n",
      "Warning: Missing PV: BPMS:BPN17:400:X\n",
      "Warning: Missing PV: BPMS:COL0:480:Y\n",
      "Warning: Missing PV: BPMS:L3B:2783:Y\n",
      "Warning: Missing PV: BPMS:COL0:640:X\n",
      "Warning: Missing PV: BPMS:BPN20:400:X\n",
      "Warning: Missing PV: BPMS:L3B:3383:X\n",
      "Warning: Missing PV: BPMS:BPN15:400:TMIT\n",
      "Warning: Missing PV: BPMS:DOG:200:TMIT\n",
      "Warning: Missing PV: BPMS:COL0:880:TMIT\n",
      "Warning: Missing PV: ACCL:GUNB:455:PACT_AVG\n",
      "Warning: Missing PV: BPMS:BC2B:150:X\n",
      "Warning: Missing PV: BPMS:DOG:405:X\n",
      "Warning: Missing PV: BPMS:BPN25:400:X\n",
      "Warning: Missing PV: BPMS:COL0:720:Y\n",
      "Warning: Missing PV: BPMS:COL0:260:TMIT\n",
      "Warning: Missing PV: BPMS:L3B:2683:X\n",
      "Warning: Missing PV: BPMS:L3B:2083:Y\n",
      "Warning: Missing PV: BPMS:COL0:240:TMIT\n",
      "Warning: Missing PV: BPMS:COL1:960:X\n",
      "Warning: Missing PV: BPMS:L3B:2983:TMIT\n",
      "Warning: Missing PV: BPMS:L3B:2383:Y\n",
      "Warning: Missing PV: BPMS:L2B:1283:Y\n",
      "Warning: Missing PV: BPMS:L3B:1683:Y\n",
      "Warning: Missing PV: BPMS:COL1:320:Y\n",
      "Warning: Missing PV: BPMS:SPD:135:Y\n",
      "Warning: Missing PV: BPMS:L2B:0783:TMIT\n",
      "Warning: Missing PV: BPMS:BPN28:400:Y\n",
      "Warning: Missing PV: BPMS:COL1:260:Y\n",
      "Warning: Missing PV: BPMS:COL0:135:Y\n",
      "Warning: Missing PV: BPMS:COL1:800:TMIT\n",
      "Warning: Missing PV: BPMS:SLTD:625:X\n",
      "Warning: Missing PV: BPMS:L2B:0883:Y\n",
      "Warning: Missing PV: BPMS:BPN13:400:X\n",
      "Warning: Missing PV: BPMS:HTR:760:TMIT\n",
      "Warning: Missing PV: BPMS:DOG:180:X\n",
      "Warning: Missing PV: BPMS:L1B:H183:TMIT\n",
      "Warning: Missing PV: BPMS:BC2B:530:TMIT\n",
      "Warning: Missing PV: BPMS:L3B:2983:X\n",
      "Warning: Missing PV: BPMS:L2B:0983:Y\n",
      "Warning: Missing PV: BPMS:L2B:0583:Y\n",
      "Warning: Missing PV: BPMS:L2B:1083:TMIT\n",
      "Warning: Missing PV: BPMS:L3B:2483:TMIT\n",
      "Warning: Missing PV: BPMS:L2B:0583:X\n",
      "Warning: Missing PV: BPMS:COL1:260:TMIT\n",
      "Warning: Missing PV: BPMS:HTR:320:TMIT\n",
      "Warning: Missing PV: BPMS:L1B:0383:Y\n",
      "Warning: Missing PV: BPMS:SPD:570:TMIT\n",
      "Warning: Missing PV: BPMS:COL0:240:Y\n",
      "Warning: Missing PV: BPMS:HTR:120:X\n",
      "Warning: Missing PV: BPMS:SPD:135:TMIT\n",
      "Warning: Missing PV: BPMS:COL0:480:TMIT\n",
      "Warning: Missing PV: BPMS:L2B:1583:TMIT\n",
      "Warning: Missing PV: BPMS:L3B:3283:Y\n",
      "Warning: Missing PV: BPMS:COL0:640:TMIT\n",
      "Warning: Missing PV: BPMS:COL0:880:Y\n",
      "Warning: Missing PV: BPMS:COL1:280:X\n",
      "Warning: Missing PV: BPMS:SPD:420:X\n",
      "Warning: Missing PV: BPMS:SPD:525:Y\n",
      "Warning: Missing PV: BPMS:COL0:560:TMIT\n",
      "Warning: Missing PV: BPMS:BC2B:530:X\n",
      "Warning: Missing PV: BPMS:BPN28:200:X\n",
      "Warning: Missing PV: BPMS:BPN19:400:TMIT\n",
      "Warning: Missing PV: BPMS:HTR:320:X\n",
      "Warning: Missing PV: BPMS:BPN21:400:X\n",
      "Warning: Missing PV: BPMS:HTR:960:Y\n",
      "Warning: Missing PV: BPMS:DOG:910:Y\n",
      "Warning: Missing PV: BPMS:L1B:H183:Y\n",
      "Warning: Missing PV: BPMS:L0B:0183:Y\n",
      "Warning: Missing PV: BPMS:HTR:980:TMIT\n",
      "Warning: Missing PV: BPMS:EMIT2:300:TMIT\n",
      "Warning: Missing PV: BPMS:L3B:1683:TMIT\n",
      "Warning: Missing PV: BPMS:BC1B:440:X\n",
      "Warning: Missing PV: BPMS:L3B:2083:TMIT\n",
      "Warning: Missing PV: BPMS:COL1:560:X\n",
      "Warning: Missing PV: BPMS:BPN20:400:TMIT\n",
      "Warning: Missing PV: BPMS:BPN25:400:TMIT\n",
      "Warning: Missing PV: BPMS:L1B:H283:X\n",
      "Warning: Missing PV: BPMS:DOG:165:X\n",
      "Warning: Missing PV: BPMS:L3B:1983:Y\n",
      "Warning: Missing PV: BPMS:COL0:480:X\n",
      "Warning: Missing PV: BPMS:HTR:120:Y\n",
      "Warning: Missing PV: BPMS:HTR:960:TMIT\n",
      "Warning: Missing PV: BPMS:EXT:351:Y\n",
      "Warning: Missing PV: BPMS:L1B:0383:TMIT\n",
      "Warning: Missing PV: BPMS:L3B:1983:X\n",
      "Warning: Missing PV: BPMS:BPN14:400:X\n",
      "Warning: Missing PV: BPMS:HTR:860:Y\n",
      "Warning: Missing PV: BPMS:HTR:460:TMIT\n",
      "Warning: Missing PV: BPMS:L2B:0783:X\n",
      "Warning: Missing PV: BPMS:EMIT2:800:X\n",
      "Warning: Missing PV: BPMS:BPN19:400:Y\n",
      "Warning: Missing PV: BPMS:BPN26:400:Y\n",
      "Warning: Missing PV: BPMS:COL1:400:X\n",
      "Warning: Missing PV: BPMS:L3B:1883:Y\n",
      "Warning: Missing PV: BPMS:BPN16:400:TMIT\n",
      "Warning: Missing PV: BPMS:L3B:2183:Y\n",
      "Warning: Missing PV: BPMS:L3B:3583:TMIT\n",
      "Warning: Missing PV: BPMS:DOG:355:X\n",
      "Warning: Missing PV: BPMS:COL1:720:X\n",
      "Warning: Missing PV: BPMS:COL0:260:X\n",
      "Warning: Missing PV: BPMS:DOG:150:TMIT\n",
      "Warning: Missing PV: BPMS:L2B:1183:X\n",
      "Warning: Missing PV: BPMS:BC2B:150:Y\n",
      "Warning: Missing PV: BPMS:L2B:1083:X\n",
      "Warning: Missing PV: BPMS:COL1:880:TMIT\n",
      "Warning: Missing PV: BPMS:DOG:215:X\n",
      "Warning: Missing PV: BPMS:L1B:0283:Y\n",
      "Warning: Missing PV: BPMS:BPN17:400:TMIT\n",
      "Warning: Missing PV: BPMS:SPD:340:TMIT\n",
      "Warning: Missing PV: BPMS:SPD:340:Y\n",
      "Warning: Missing PV: BPMS:L2B:1383:TMIT\n",
      "Warning: Missing PV: BPMS:L2B:1383:Y\n",
      "Warning: Missing PV: BPMS:L3B:2683:Y\n",
      "Warning: Missing PV: BPMS:BPN22:400:Y\n",
      "Warning: Missing PV: BPMS:L1B:H183:X\n",
      "Warning: Missing PV: BPMS:HTR:460:X\n",
      "Warning: Missing PV: BPMS:BC1B:125:X\n",
      "Warning: Missing PV: BPMS:DOG:135:Y\n",
      "Warning: Missing PV: BPMS:COL1:960:Y\n",
      "Warning: Missing PV: BPMS:COL0:800:Y\n",
      "Warning: Missing PV: BPMS:L2B:0883:X\n",
      "Warning: Missing PV: BPMS:BPN27:400:X\n",
      "Warning: Missing PV: BPMS:L2B:1483:X\n",
      "Warning: Missing PV: BPMS:L3B:3183:TMIT\n",
      "Warning: Missing PV: BPMS:SPD:700:X\n",
      "Warning: Missing PV: BPMS:L3B:2883:X\n",
      "Warning: Missing PV: BPMS:COL1:720:TMIT\n",
      "Warning: Missing PV: BPMS:SPD:570:Y\n",
      "Warning: Missing PV: BPMS:L3B:2483:X\n",
      "Warning: Missing PV: BPMS:L3B:3083:X\n",
      "Warning: Missing PV: BPMS:BC1B:440:Y\n",
      "Warning: Missing PV: BPMS:COL0:940:TMIT\n",
      "Warning: Missing PV: BPMS:L3B:2783:TMIT\n",
      "Warning: Missing PV: BPMS:BPN28:200:Y\n",
      "Warning: Missing PV: BPMS:COL1:560:TMIT\n",
      "Warning: Missing PV: BPMS:COL0:800:TMIT\n",
      "Warning: Missing PV: BPMS:DOG:280:Y\n",
      "Warning: Missing PV: BPMS:COL1:880:X\n",
      "Warning: Missing PV: BPMS:BPN28:400:TMIT\n",
      "Warning: Missing PV: BPMS:HTR:365:X\n",
      "Warning: Missing PV: BPMS:L3B:2583:Y\n",
      "Warning: Missing PV: BPMS:EMIT2:300:X\n",
      "Warning: Missing PV: BPMS:L3B:3583:Y\n",
      "Warning: Missing PV: BPMS:SPD:135:X\n",
      "Warning: Missing PV: BPMS:HTR:830:Y\n",
      "Warning: Missing PV: BPMS:L3B:2283:X\n",
      "Warning: Missing PV: BPMS:L2B:1283:TMIT\n",
      "Warning: Missing PV: BPMS:COL1:320:X\n",
      "Warning: Missing PV: BPMS:L3B:2583:X\n",
      "Warning: Missing PV: BPMS:COL0:260:Y\n",
      "Warning: Missing PV: BPMS:SPD:255:X\n",
      "Warning: Missing PV: BPMS:COL1:640:X\n",
      "Warning: Missing PV: BPMS:BPN24:400:X\n",
      "Warning: Missing PV: BPMS:EMIT2:800:TMIT\n",
      "Warning: Missing PV: BPMS:EMIT2:800:Y\n",
      "Warning: Missing PV: BPMS:L2B:1483:Y\n",
      "Warning: Missing PV: BPMS:SPD:570:X\n",
      "Warning: Missing PV: BPMS:COL1:480:X\n",
      "Warning: Missing PV: BPMS:DOG:335:TMIT\n",
      "Warning: Missing PV: BPMS:L3B:3583:X\n",
      "Warning: Missing PV: BPMS:EMIT2:900:X\n",
      "Warning: Missing PV: BPMS:DOG:910:TMIT\n",
      "Warning: Missing PV: BPMS:L3B:3183:Y\n",
      "Warning: Missing PV: BPMS:COL1:400:Y\n",
      "Warning: Missing PV: BPMS:DOG:180:TMIT\n",
      "Warning: Missing PV: BPMS:L3B:2983:Y\n",
      "Warning: Missing PV: BPMS:BPN21:400:Y\n",
      "Warning: Missing PV: BPMS:BC1B:440:TMIT\n",
      "Warning: Missing PV: BPMS:COL0:135:X\n",
      "Warning: Missing PV: BPMS:DOG:135:X\n",
      "Warning: Missing PV: BPMS:DOG:165:TMIT\n",
      "Warning: Missing PV: BPMS:COL1:120:X\n",
      "Warning: Missing PV: BPMS:DOG:200:Y\n",
      "Warning: Missing PV: BPMS:DOG:575:X\n",
      "Warning: Missing PV: BPMS:COL1:480:TMIT\n",
      "Warning: Missing PV: BPMS:DOG:910:X\n",
      "Warning: Missing PV: BPMS:HTR:760:Y\n",
      "Warning: Missing PV: BPMS:DOG:180:Y\n",
      "Warning: Missing PV: BPMS:L3B:3283:TMIT\n",
      "Warning: Missing PV: BPMS:L3B:3483:TMIT\n",
      "Warning: Missing PV: BPMS:COL0:400:TMIT\n",
      "Warning: Missing PV: BPMS:DOG:120:Y\n",
      "Warning: Missing PV: BPMS:HTR:980:Y\n",
      "Warning: Missing PV: BPMS:BPN27:400:Y\n",
      "Warning: Missing PV: BPMS:COL0:280:Y\n",
      "Warning: Missing PV: BPMS:L1B:0283:TMIT\n",
      "Warning: Missing PV: BPMS:SPD:955:Y\n",
      "Warning: Missing PV: BPMS:L3B:3083:TMIT\n",
      "Warning: Missing PV: BPMS:SPD:700:TMIT\n",
      "Warning: Missing PV: BPMS:L3B:3083:Y\n",
      "Warning: Missing PV: BPMS:COL1:400:TMIT\n",
      "Warning: Missing PV: BPMS:EMIT2:900:Y\n",
      "Warning: Missing PV: BPMS:HTR:830:TMIT\n",
      "Warning: Missing PV: BPMS:EXT:748:TMIT\n",
      "Warning: Missing PV: BPMS:COL1:480:Y\n",
      "Warning: Missing PV: BPMS:L3B:2283:TMIT\n",
      "Warning: Missing PV: BPMS:EXT:351:TMIT\n",
      "Warning: Missing PV: BPMS:COL1:280:TMIT\n",
      "Warning: Missing PV: BPMS:BC2B:150:TMIT\n",
      "Warning: Missing PV: BPMS:L1B:0383:X\n",
      "Warning: Missing PV: BPMS:BPN14:400:Y\n",
      "Warning: Missing PV: BPMS:SPD:700:Y\n",
      "Warning: Missing PV: BPMS:L2B:0483:TMIT\n",
      "Warning: Missing PV: BPMS:COL1:800:X\n",
      "Warning: Missing PV: BPMS:L3B:1983:TMIT\n",
      "Warning: Missing PV: BPMS:COL0:280:X\n",
      "Warning: Missing PV: BPMS:L2B:1183:TMIT\n",
      "Warning: Missing PV: BPMS:HTR:540:TMIT\n",
      "Warning: Missing PV: BPMS:L3B:3283:X\n",
      "Warning: Missing PV: BPMS:SPD:525:X\n",
      "Warning: Missing PV: BPMS:L3B:2383:TMIT\n",
      "Warning: Missing PV: BPMS:BPN28:200:TMIT\n",
      "Warning: Missing PV: BPMS:BPN16:400:X\n",
      "Warning: Missing PV: BPMS:COL0:640:Y\n",
      "Warning: Missing PV: BPMS:SPD:420:Y\n",
      "Warning: Missing PV: BPMS:BPN23:400:X\n",
      "Warning: Missing PV: BPMS:DOG:740:Y\n",
      "Warning: Missing PV: BPMS:L3B:3483:X\n",
      "Warning: Missing PV: BPMS:L2B:1583:X\n",
      "Warning: Missing PV: BPMS:L2B:0683:TMIT\n",
      "Warning: Missing PV: BPMS:DOG:230:TMIT\n",
      "Warning: Missing PV: BPMS:SPD:340:X\n",
      "Warning: Missing PV: BPMS:COL0:320:Y\n",
      "Warning: Missing PV: BPMS:L0B:0183:TMIT\n",
      "Warning: Missing PV: BPMS:DOG:150:Y\n",
      "Warning: Missing PV: BPMS:DOG:405:TMIT\n",
      "Warning: Missing PV: BPMS:BC1B:125:TMIT\n",
      "Warning: Missing PV: BPMS:HTR:830:X\n",
      "Warning: Missing PV: BPMS:HTR:860:X\n",
      "Warning: Missing PV: BPMS:L3B:2683:TMIT\n",
      "Warning: Missing PV: BPMS:SLTD:625:TMIT\n",
      "Warning: Missing PV: BPMS:HTR:120:TMIT\n",
      "Warning: Missing PV: BPMS:COL0:240:X\n",
      "Warning: Missing PV: BPMS:COL0:560:X\n",
      "Warning: Missing PV: BPMS:HTR:365:TMIT\n",
      "Warning: Missing PV: BPMS:BPN13:400:TMIT\n",
      "Warning: Missing PV: BPMS:DOG:335:Y\n",
      "Warning: Missing PV: BPMS:DOG:215:TMIT\n",
      "Warning: Missing PV: BPMS:DOG:165:Y\n",
      "Warning: Missing PV: BPMS:COL0:320:TMIT\n",
      "Warning: Missing PV: BPMS:COL1:320:TMIT\n",
      "Warning: Missing PV: BPMS:DOG:280:TMIT\n",
      "Warning: Missing PV: BPMS:L3B:2883:Y\n",
      "Warning: Missing PV: BPMS:SLTD:895:TMIT\n",
      "Warning: Missing PV: BPMS:DOG:250:X\n",
      "Warning: Missing PV: BPMS:BPN23:400:Y\n",
      "Warning: Missing PV: BPMS:L1B:H283:Y\n",
      "Warning: Missing PV: BPMS:SPD:255:Y\n",
      "Warning: Missing PV: BPMS:L2B:0983:X\n",
      "Warning: Missing PV: BPMS:L2B:0683:Y\n",
      "Warning: Missing PV: BPMS:DOG:215:Y\n",
      "Warning: Missing PV: BPMS:L3B:1783:TMIT\n",
      "Warning: Missing PV: BPMS:DOG:250:Y\n",
      "Warning: Missing PV: BPMS:L3B:3383:TMIT\n",
      "Warning: Missing PV: BPMS:L2B:1283:X\n",
      "Warning: Missing PV: BPMS:BPN22:400:X\n",
      "Warning: Missing PV: BPMS:EMIT2:150:TMIT\n",
      "Warning: Missing PV: BPMS:DOG:405:Y\n",
      "Warning: Missing PV: BPMS:SPD:255:TMIT\n",
      "Warning: Missing PV: BPMS:L3B:1683:X\n",
      "Warning: Missing PV: BPMS:BPN24:400:TMIT\n",
      "Warning: Missing PV: BPMS:BPN21:400:TMIT\n",
      "Warning: Missing PV: BPMS:HTR:860:TMIT\n",
      "Warning: Missing PV: BPMS:HTR:460:Y\n",
      "Warning: Missing PV: BPMS:L2B:1483:TMIT\n",
      "Warning: Missing PV: BPMS:BPN18:400:TMIT\n",
      "Warning: Missing PV: BPMS:DOG:575:TMIT\n"
     ]
    }
   ],
   "source": [
    "os.environ['http_proxy']='socks5h://localhost:8080'\n",
    "os.environ['HTTPS_PROXY']='socks5h://localhost:8080'\n",
    "os.environ['ALL_PROXY']='socks5h://localhost:8080'\n",
    "\n",
    "PVDATA=lcls_archiver_restore(PVLIST, '2023-06-08T23:09:50.000000-07:00')"
   ]
  },
  {
   "cell_type": "code",
   "execution_count": 26,
   "id": "59ae9abb",
   "metadata": {},
   "outputs": [],
   "source": [
    "cmds=tao_commands(PVDATA)\n",
    "save_cmds(cmds,filename='live_pvs_bsyd_08-06-23T23:09:50.tao')"
   ]
  },
  {
   "cell_type": "markdown",
   "id": "9b19a080-f484-4a98-8bd0-435932a6b56e",
   "metadata": {},
   "source": [
    "## EPICS"
   ]
  },
  {
   "cell_type": "code",
   "execution_count": null,
   "id": "c85d5f75-c26f-4b5e-8d7c-df72e2105105",
   "metadata": {},
   "outputs": [],
   "source": [
    "import epics\n",
    "from epics import caget_many, caget\n",
    "from time import sleep, time\n",
    "\n",
    "def caget_dict(pvlist):\n",
    "    return dict(zip(pvlist, caget_many(pvlist)))"
   ]
  },
  {
   "cell_type": "code",
   "execution_count": null,
   "id": "364bb475",
   "metadata": {},
   "outputs": [],
   "source": [
    "caget('KLYS:LI22:11:KPHR')"
   ]
  },
  {
   "cell_type": "code",
   "execution_count": null,
   "id": "defa1300-574c-4bd7-8b5c-100e41308265",
   "metadata": {},
   "outputs": [],
   "source": [
    "# Test get\n",
    "PVDATA = caget_dict(PVLIST)\n",
    "BAD_DEVICES = set()\n",
    "PVLIST_GOOD = []\n",
    "for k, v in PVDATA.items():\n",
    "    if v is None:\n",
    "        #print('Bad PV:', k)\n",
    "        device = ':'.join((k.split(':')[:-1]))\n",
    "        BAD_DEVICES.add(device)\n",
    "    else:\n",
    "        PVLIST_GOOD.append(k)\n",
    "        \n",
    "# Get bmad names\n",
    "bdf = devices[['alias', 'name']].set_index('alias')\n",
    "BAD_NAMES = list(bdf.loc[list(BAD_DEVICES)]['name'])\n",
    "#BAD_NAMES        \n",
    "        \n",
    "#BAD_DEVICES, BAD_NAMES\n",
    "print(len(BAD_DEVICES))\n",
    "print(len(PVLIST_GOOD))"
   ]
  },
  {
   "cell_type": "code",
   "execution_count": null,
   "id": "a7951a2c-71d0-4edb-9898-c376ad1ee663",
   "metadata": {},
   "outputs": [],
   "source": [
    "MONITOR = {pvname:epics.PV(pvname) for pvname in PVLIST_GOOD}\n",
    "sleep(1) # Wait for all to connect"
   ]
  },
  {
   "cell_type": "code",
   "execution_count": null,
   "id": "aac53441-0b96-40c7-9d5e-a64552b7f852",
   "metadata": {},
   "outputs": [],
   "source": [
    "def get_pvdata():   \n",
    "    itime = isotime()\n",
    "    pvdata =  {k:MONITOR[k].get() for k in MONITOR}\n",
    "    return pvdata\n",
    "PVDATA = get_pvdata()"
   ]
  },
  {
   "cell_type": "code",
   "execution_count": null,
   "id": "091ce246",
   "metadata": {},
   "outputs": [],
   "source": [
    "#print(PVDATA);"
   ]
  },
  {
   "cell_type": "markdown",
   "id": "64aa3a36-dcb9-4b7f-88d0-8a979cf94e54",
   "metadata": {},
   "source": [
    "# Fiter datamamps again"
   ]
  },
  {
   "cell_type": "code",
   "execution_count": 15,
   "id": "0ca856ef-529c-43f8-abbb-9ea3e2c47f9f",
   "metadata": {},
   "outputs": [
    {
     "ename": "NameError",
     "evalue": "name 'BAD_NAMES' is not defined",
     "output_type": "error",
     "traceback": [
      "\u001b[0;31m---------------------------------------------------------------------------\u001b[0m",
      "\u001b[0;31mNameError\u001b[0m                                 Traceback (most recent call last)",
      "Cell \u001b[0;32mIn[15], line 1\u001b[0m\n\u001b[0;32m----> 1\u001b[0m \u001b[38;5;28;01mfor\u001b[39;00m name \u001b[38;5;129;01min\u001b[39;00m \u001b[43mBAD_NAMES\u001b[49m:\n\u001b[1;32m      2\u001b[0m     good_names\u001b[38;5;241m.\u001b[39mremove(name)\n",
      "\u001b[0;31mNameError\u001b[0m: name 'BAD_NAMES' is not defined"
     ]
    }
   ],
   "source": [
    "for name in BAD_NAMES:\n",
    "    good_names.remove(name)"
   ]
  },
  {
   "cell_type": "code",
   "execution_count": 23,
   "id": "42045a8d-55ea-4d13-84ac-ea7fa0b27e17",
   "metadata": {},
   "outputs": [],
   "source": [
    "DM_GOOD = {}\n",
    "for name, dm in DM.items():\n",
    "    if name == 'tao_energy_measurements':\n",
    "        # don't filter\n",
    "        DM_GOOD[name] = dm\n",
    "    else:\n",
    "        DM_GOOD[name] = filter_datamap(dm, good_names)"
   ]
  },
  {
   "cell_type": "code",
   "execution_count": null,
   "id": "7dd0d3ed",
   "metadata": {},
   "outputs": [],
   "source": [
    "print(DM_GOOD['bpms'])"
   ]
  },
  {
   "cell_type": "markdown",
   "id": "4ba00313-3fe3-40a1-9239-5207b832fe9a",
   "metadata": {},
   "source": [
    "# Tao conveniences"
   ]
  },
  {
   "cell_type": "code",
   "execution_count": 17,
   "id": "c14e4e96-2745-4707-a81e-f735fd2d43fd",
   "metadata": {},
   "outputs": [],
   "source": [
    "def tao_commands(pvdata):\n",
    "    cmds = []\n",
    "    for name, dm in DM_GOOD.items():\n",
    "        cmds.extend(dm.as_tao(pvdata))\n",
    "    return cmds"
   ]
  },
  {
   "cell_type": "code",
   "execution_count": null,
   "id": "8791e9a4",
   "metadata": {},
   "outputs": [],
   "source": []
  },
  {
   "cell_type": "code",
   "execution_count": 18,
   "id": "d9ddf570-db6e-4383-90e3-34809dadc631",
   "metadata": {},
   "outputs": [],
   "source": [
    "def save_cmds(cmds, filename='cmds.tao'): # Write to file for running with vanilla Tao\n",
    "    with open(filename, 'w') as f:\n",
    "        f.write('set global lattice_calc_on = F\\n')\n",
    "        f.write('set global plot_on = F\\n')    \n",
    "        f.write('set ele quad::* field_master = T')\n",
    "        f.write('set ele SC_L* is_on = F')\n",
    "        for cmd in cmds:\n",
    "            f.write(cmd+'\\n')\n",
    "        f.write('set global lattice_calc_on = T\\n')        \n",
    "        f.write('set global plot_on = T\\n')   "
   ]
  },
  {
   "cell_type": "code",
   "execution_count": null,
   "id": "5c95d911-dd06-4dfd-885e-72902733eed4",
   "metadata": {},
   "outputs": [],
   "source": [
    "# Match HTR to design\n",
    "def set_htr_twiss(tao):\n",
    "    cmds=\"\"\"\n",
    "vv\n",
    "vd\n",
    "set data HTR.begtwiss|meas = HTR.begtwiss|design\n",
    "use dat HTR.begtwiss[1:4]\n",
    "use var begtwiss[1:4]\n",
    "olmdif\n",
    "\"\"\".split('\\n') \n",
    "    tao.cmds(cmds)\n",
    "    tao.cmd('set global lattice_calc_on = T')\n",
    "    tao.cmd('run')\n",
    "    tao.cmd('set global plot_on = T')\n",
    "#set_htr_twiss(tao)"
   ]
  },
  {
   "cell_type": "code",
   "execution_count": null,
   "id": "00766e2a-31b4-4411-a901-01636c5fcbdb",
   "metadata": {},
   "outputs": [],
   "source": [
    "# mat2 x, y for PyEmittance\n",
    "def get_mats():\n",
    "    mat6 = tao.matrix('Q0H01#2', 'OTR0H04')['mat6']\n",
    "    mat2x = mat6[0:2, 0:2]\n",
    "    mat2y = mat6[2:4, 2:4]\n",
    "    return mat2x, mat2y"
   ]
  },
  {
   "cell_type": "markdown",
   "id": "ee617749-33fc-4275-a380-c4493b630c57",
   "metadata": {},
   "source": [
    "## Form commands using PVDATA and datamaps"
   ]
  },
  {
   "cell_type": "code",
   "execution_count": null,
   "id": "fd889a62-9284-4c10-aaf8-641942327e1b",
   "metadata": {},
   "outputs": [],
   "source": [
    "# Master switches for element scaling\n",
    "tao.cmd('set ele quad::* field_master = T')\n",
    "\n",
    "# Turn off phase overlays \n",
    "tao.cmd('set ele SC_L* is_on = F', raises=False)\n",
    "\n",
    "if MODEL == 'sc_inj':\n",
    "    tao.cmd('set ele lcavity::* autoscale_phase = T')"
   ]
  },
  {
   "cell_type": "code",
   "execution_count": null,
   "id": "b687eb35",
   "metadata": {},
   "outputs": [],
   "source": [
    "pvdata = get_pvdata()\n",
    "cmds=tao_commands(pvdata)\n",
    "save_cmds(cmds,filename='live_pvs_26_05_23_1500.tao')"
   ]
  },
  {
   "cell_type": "code",
   "execution_count": null,
   "id": "c434ccd3",
   "metadata": {},
   "outputs": [],
   "source": [
    "tao.cmd('scale top 0 5000')"
   ]
  },
  {
   "cell_type": "markdown",
   "id": "f7c79be7-a9b3-4a6f-9005-96951302e962",
   "metadata": {},
   "source": [
    "# Continuous loop"
   ]
  },
  {
   "cell_type": "code",
   "execution_count": null,
   "id": "fcd4f747-08ec-4424-99eb-d61c6ac534f8",
   "metadata": {},
   "outputs": [],
   "source": [
    "def run1():\n",
    "    #sleep(.001)\n",
    "    t1 = time()\n",
    "    pvdata = get_pvdata()\n",
    "    cmds = tao_commands(pvdata)\n",
    "    tao.cmd('set global plot_on = F;set global lattice_calc_on = F')\n",
    "    tao.cmds(cmds); # Apply\n",
    "\n",
    "    tao.cmd('set global lattice_calc_on = T')\n",
    "    tao.cmd('set global plot_on = T')\n",
    "    #toggle_beam()\n",
    "    \n",
    "    dt = time()-t1\n",
    "    #print(dt)    \n"
   ]
  },
  {
   "cell_type": "code",
   "execution_count": null,
   "id": "67710ef9",
   "metadata": {},
   "outputs": [],
   "source": [
    "tao.cmd('set var *|model=*|design')\n",
    "tao.cmd('set global lattice_calc_on=T')"
   ]
  },
  {
   "cell_type": "code",
   "execution_count": null,
   "id": "e6dc4b75-22ea-4e30-bdca-584655072b34",
   "metadata": {},
   "outputs": [],
   "source": [
    "%%time\n",
    "run1()"
   ]
  },
  {
   "cell_type": "code",
   "execution_count": null,
   "id": "ef5d198d-f054-44b4-bdc4-c505957e9afe",
   "metadata": {},
   "outputs": [],
   "source": [
    "# Set twiss\n",
    "set_htr_twiss(tao)"
   ]
  },
  {
   "cell_type": "code",
   "execution_count": null,
   "id": "d263d16d-924c-44af-b48b-ad2dab231667",
   "metadata": {},
   "outputs": [],
   "source": [
    "# Check charge (pC)\n",
    "df = pd.DataFrame(tao.data_d_array('orbit', 'charge'))\n",
    "df['charge_live'] =df['meas_value']*1e12\n",
    "df[['ele_name', 'charge_live']]"
   ]
  },
  {
   "cell_type": "code",
   "execution_count": null,
   "id": "af5bac98",
   "metadata": {},
   "outputs": [],
   "source": [
    "tao.cmd('set var *|model=*|design')"
   ]
  },
  {
   "cell_type": "code",
   "execution_count": null,
   "id": "f47b5131-b88c-4aab-a7b8-6dd8501bdb86",
   "metadata": {},
   "outputs": [],
   "source": [
    "%%tao\n",
    "use dat orbit.x\n",
    "use dat orbit.y\n",
    "sc floor -5 5\n",
    "sc top\n",
    "x_scale * 0 50\n",
    "sc top"
   ]
  },
  {
   "cell_type": "markdown",
   "id": "ad9e2cb7-0275-4113-b25c-9d65d491a65c",
   "metadata": {},
   "source": [
    "# Continuous run\n",
    "    "
   ]
  },
  {
   "cell_type": "code",
   "execution_count": null,
   "id": "7c09d880-3f92-4e21-ba30-2ee41ce6e3f1",
   "metadata": {},
   "outputs": [],
   "source": [
    "# Run forever\n",
    "while True:\n",
    "    run1()"
   ]
  }
 ],
 "metadata": {
  "kernelspec": {
   "display_name": "Python 3 (ipykernel)",
   "language": "python",
   "name": "python3"
  },
  "language_info": {
   "codemirror_mode": {
    "name": "ipython",
    "version": 3
   },
   "file_extension": ".py",
   "mimetype": "text/x-python",
   "name": "python",
   "nbconvert_exporter": "python",
   "pygments_lexer": "ipython3",
   "version": "3.10.10"
  }
 },
 "nbformat": 4,
 "nbformat_minor": 5
}
