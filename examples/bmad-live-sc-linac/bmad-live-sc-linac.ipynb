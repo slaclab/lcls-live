{
 "cells": [
  {
   "cell_type": "markdown",
   "id": "ff6180e4-ec7f-4aa7-8911-9706eaab94d5",
   "metadata": {},
   "source": [
    "# `sc_linac` Live"
   ]
  },
  {
   "cell_type": "code",
   "execution_count": 1,
   "id": "c8629902-88b6-4f74-9352-9ed5a8dcef83",
   "metadata": {},
   "outputs": [],
   "source": [
    "# Useful for debugging\n",
    "%load_ext autoreload\n",
    "%autoreload 2\n",
    "\n",
    "%config InlineBackend.figure_format = 'retina'\n",
    "%matplotlib inline"
   ]
  },
  {
   "cell_type": "code",
   "execution_count": 2,
   "id": "e39b4706-f357-4ebc-9adc-55a33b376220",
   "metadata": {},
   "outputs": [],
   "source": [
    "from lcls_live.datamaps import get_datamaps\n",
    "from lcls_live.archiver import lcls_archiver_restore\n",
    "\n",
    "from lcls_live.tools import isotime\n",
    "\n",
    "import matplotlib.pyplot as plt\n",
    "import numpy as np\n",
    "\n",
    "import os"
   ]
  },
  {
   "cell_type": "code",
   "execution_count": 3,
   "id": "791d2fa6-05cd-4813-a307-843b84fd140d",
   "metadata": {},
   "outputs": [],
   "source": [
    "# Pick a model and slice\n",
    "\n",
    "MODEL = 'sc_diag0' # or sc_diag0 or sc_inj\n",
    "\n",
    "BEGELE = 'BEGINNING'\n",
    "#ENDELE = 'OTR0H04'\n",
    "#ENDELE = 'ENDCOL0'\n",
    "ENDELE = 'END'"
   ]
  },
  {
   "cell_type": "markdown",
   "id": "bbdbf72a-9063-4a2c-a9d9-2d427fa1588e",
   "metadata": {},
   "source": [
    "# Bmad model"
   ]
  },
  {
   "cell_type": "code",
   "execution_count": 4,
   "id": "bad53071-c9d1-46b8-8def-ac712aad4cb9",
   "metadata": {},
   "outputs": [],
   "source": [
    "from pytao import Tao\n",
    "import pandas as pd"
   ]
  },
  {
   "cell_type": "code",
   "execution_count": 5,
   "id": "fd5ec66a-c8d2-411f-a170-65f452c0d406",
   "metadata": {},
   "outputs": [],
   "source": [
    "tao = Tao(f'-init $LCLS_LATTICE/bmad/models/{MODEL}/tao.init  -slice  {BEGELE}:{ENDELE}')\n",
    "tao.cmd('place floor bpm_orbit')\n",
    "tao.cmd('place middle energy')\n",
    "tao.cmd('sc floor -10 10')\n",
    "\n",
    "def ele_info(ele):\n",
    "    dat = tao.ele_head(ele)\n",
    "    dat.update(tao.ele_gen_attribs(ele))\n",
    "    return dat\n",
    "\n",
    "def ele_table(match=\"*\"):\n",
    "    ix_ele = tao.lat_list(match, \"ele.ix_ele\", flags=\"-no_slaves\")\n",
    "    dat = list(map(ele_info, ix_ele))\n",
    "    df = pd.DataFrame(dat, index=ix_ele)\n",
    "    df.L.fillna(0, inplace=True)\n",
    "    df['s_center'] = df['s'] - df['L']/2\n",
    "    df['s_beginning'] = df['s'] - df['L']\n",
    "    return  df\n",
    "\n",
    "df = ele_table()\n",
    "\n",
    "# Elements with device names\n",
    "devices = df[df['alias'] != '']\n",
    "#devices['name alias s'.split()]"
   ]
  },
  {
   "cell_type": "markdown",
   "id": "0f16a169-96d7-42b4-85a9-edd2694a0d3d",
   "metadata": {},
   "source": [
    "## Datamaps, and all PVs needed"
   ]
  },
  {
   "cell_type": "code",
   "execution_count": 6,
   "id": "bf51c97d-7be2-4be7-9b29-6004c89d70c2",
   "metadata": {},
   "outputs": [],
   "source": [
    "from copy import deepcopy\n",
    "def filter_datamap(dm, bmad_names):\n",
    "    bnames = dm.data['bmad_name'] \n",
    "    bmad_names = set(bmad_names)\n",
    "    ix = bnames[[name in bmad_names for name in bnames]].index\n",
    "    dm2 = deepcopy(dm)\n",
    "    dm2.data = dm.data.loc[ix]\n",
    "    return dm2"
   ]
  },
  {
   "cell_type": "code",
   "execution_count": 7,
   "id": "a2dfa10b-5b17-4854-be99-6c90c9b11658",
   "metadata": {},
   "outputs": [
    {
     "data": {
      "text/plain": [
       "dict_keys(['bpms', 'cavities', 'correctors', 'tao_energy_measurements', 'quad', 'quad_corrector', 'solenoid'])"
      ]
     },
     "execution_count": 7,
     "metadata": {},
     "output_type": "execute_result"
    }
   ],
   "source": [
    "DM0 = get_datamaps(MODEL)\n",
    "DM0.keys()"
   ]
  },
  {
   "cell_type": "code",
   "execution_count": 8,
   "id": "456e089d-38f1-4ec0-9b90-ff8478019b38",
   "metadata": {},
   "outputs": [
    {
     "data": {
      "text/plain": [
       "TabularDataMap(data=   bmad_name              pvname_rbv              pvname     bmad_factor  \\\n",
       "0    CAVL011  ACCL:L0B:0110:PACTMEAN  ACCL:L0B:0110:PDES        0.002778   \n",
       "1    CAVL012  ACCL:L0B:0120:PACTMEAN  ACCL:L0B:0120:PDES        0.002778   \n",
       "2    CAVL013  ACCL:L0B:0130:PACTMEAN  ACCL:L0B:0130:PDES        0.002778   \n",
       "3    CAVL014  ACCL:L0B:0140:PACTMEAN  ACCL:L0B:0140:PDES        0.002778   \n",
       "4    CAVL015  ACCL:L0B:0150:PACTMEAN  ACCL:L0B:0150:PDES        0.002778   \n",
       "5    CAVL016  ACCL:L0B:0160:PACTMEAN  ACCL:L0B:0160:PDES        0.002778   \n",
       "6    CAVL017  ACCL:L0B:0170:PACTMEAN  ACCL:L0B:0170:PDES        0.002778   \n",
       "7    CAVL018  ACCL:L0B:0180:PACTMEAN  ACCL:L0B:0180:PDES        0.002778   \n",
       "8      BUN1B  ACCL:GUNB:455:PACT_AVG  ACCL:GUNB:455:PDES        0.002778   \n",
       "9    CAVL011  ACCL:L0B:0110:AACTMEAN                None  1000000.000000   \n",
       "10   CAVL012  ACCL:L0B:0120:AACTMEAN                None  1000000.000000   \n",
       "11   CAVL013  ACCL:L0B:0130:AACTMEAN                None  1000000.000000   \n",
       "12   CAVL014  ACCL:L0B:0140:AACTMEAN                None  1000000.000000   \n",
       "13   CAVL015  ACCL:L0B:0150:AACTMEAN                None  1000000.000000   \n",
       "14   CAVL016  ACCL:L0B:0160:AACTMEAN                None  1000000.000000   \n",
       "15   CAVL017  ACCL:L0B:0170:AACTMEAN                None  1000000.000000   \n",
       "16   CAVL018  ACCL:L0B:0180:AACTMEAN                None  1000000.000000   \n",
       "17     BUN1B  ACCL:GUNB:455:AACT_AVG                None  1000000.000000   \n",
       "\n",
       "   bmad_attribute bmad_unit  \n",
       "0            phi0       2pi  \n",
       "1            phi0       2pi  \n",
       "2            phi0       2pi  \n",
       "3            phi0       2pi  \n",
       "4            phi0       2pi  \n",
       "5            phi0       2pi  \n",
       "6            phi0       2pi  \n",
       "7            phi0       2pi  \n",
       "8            phi0       2pi  \n",
       "9         voltage         V  \n",
       "10        voltage         V  \n",
       "11        voltage         V  \n",
       "12        voltage         V  \n",
       "13        voltage         V  \n",
       "14        voltage         V  \n",
       "15        voltage         V  \n",
       "16        voltage         V  \n",
       "17        voltage         V  , pvname='pvname_rbv', element='bmad_name', attribute='bmad_attribute', factor='bmad_factor', offset='', bmad_format='{element}[{attribute}] = {value}', tao_format='set ele {element} {attribute} = {value}')"
      ]
     },
     "execution_count": 8,
     "metadata": {},
     "output_type": "execute_result"
    }
   ],
   "source": [
    "good_names = set(df['name'])\n",
    "bad_eles = [] # any bad eles\n",
    "\n",
    "for ele in bad_eles:\n",
    "    good_names.remove(ele)\n",
    "\n",
    "DM = {}\n",
    "for name, dm in DM0.items():\n",
    "    if name == 'tao_energy_measurements':\n",
    "        # don't filter\n",
    "        DM[name] = dm\n",
    "    else:\n",
    "        DM[name] = filter_datamap(dm, good_names)\n",
    "\n",
    "DM['cavities']"
   ]
  },
  {
   "cell_type": "code",
   "execution_count": 9,
   "id": "7e237216-0ea2-4dd4-9c85-fb0310f59b64",
   "metadata": {},
   "outputs": [],
   "source": [
    "# datamaps to exclude\n",
    "DENYLIST = [\n",
    "    #'bpms',\n",
    "   # 'cavities',\n",
    "    'correctors',\n",
    "    #'quad',\n",
    "]"
   ]
  },
  {
   "cell_type": "code",
   "execution_count": 10,
   "id": "49cbb944-b46c-42e5-bf39-e6bcaef41023",
   "metadata": {},
   "outputs": [
    {
     "data": {
      "text/plain": [
       "['BPMS:HTR:760:Y',\n",
       " 'BPMS:HTR:830:Y',\n",
       " 'BPMS:DIAG0:285:X',\n",
       " 'BPMS:COL0:135:X',\n",
       " 'BPMS:DIAG0:330:X',\n",
       " 'QUAD:HTR:140:BACT',\n",
       " 'BPMS:GUNB:314:TMIT',\n",
       " 'BPMS:HTR:980:X',\n",
       " 'BPMS:DIAG0:270:TMIT',\n",
       " 'BPMS:DIAG0:520:TMIT']"
      ]
     },
     "execution_count": 10,
     "metadata": {},
     "output_type": "execute_result"
    }
   ],
   "source": [
    "# PVs needed\n",
    "PVLIST =  []\n",
    "for name, dm in DM.items():\n",
    "    if name in DENYLIST:\n",
    "        continue\n",
    "    PVLIST.extend(dm.pvlist)\n",
    "PVLIST = list(set(PVLIST))\n",
    "len(PVLIST)\n",
    "PVLIST[0:10]"
   ]
  },
  {
   "cell_type": "markdown",
   "id": "9b19a080-f484-4a98-8bd0-435932a6b56e",
   "metadata": {},
   "source": [
    "## EPICS"
   ]
  },
  {
   "cell_type": "code",
   "execution_count": 11,
   "id": "c85d5f75-c26f-4b5e-8d7c-df72e2105105",
   "metadata": {},
   "outputs": [],
   "source": [
    "import epics\n",
    "from epics import caget_many, caget\n",
    "from time import sleep, time\n",
    "\n",
    "def caget_dict(pvlist):\n",
    "    return dict(zip(pvlist, caget_many(pvlist)))"
   ]
  },
  {
   "cell_type": "code",
   "execution_count": 12,
   "id": "defa1300-574c-4bd7-8b5c-100e41308265",
   "metadata": {},
   "outputs": [
    {
     "name": "stdout",
     "output_type": "stream",
     "text": [
      "Bad PV: BPMS:DIAG0:330:X\n",
      "Bad PV: BPMS:HTR:980:X\n",
      "Bad PV: BPMS:DIAG0:330:Y\n",
      "Bad PV: BPMS:HTR:980:Y\n",
      "Bad PV: BPMS:HTR:980:TMIT\n",
      "Bad PV: BPMS:DIAG0:330:TMIT\n"
     ]
    },
    {
     "data": {
      "text/plain": [
       "({'BPMS:DIAG0:330', 'BPMS:HTR:980'}, ['BPMHD04', 'BPMDG0RF'])"
      ]
     },
     "execution_count": 12,
     "metadata": {},
     "output_type": "execute_result"
    }
   ],
   "source": [
    "# Test get\n",
    "PVDATA = caget_dict(PVLIST)\n",
    "BAD_DEVICES = set()\n",
    "PVLIST_GOOD = []\n",
    "for k, v in PVDATA.items():\n",
    "    if v is None:\n",
    "        print('Bad PV:', k)\n",
    "        device = ':'.join((k.split(':')[:-1]))\n",
    "        BAD_DEVICES.add(device)\n",
    "    else:\n",
    "        PVLIST_GOOD.append(k)\n",
    "        \n",
    "# Get bmad names\n",
    "bdf = devices[['alias', 'name']].set_index('alias')\n",
    "BAD_NAMES = list(bdf.loc[list(BAD_DEVICES)]['name'])\n",
    "BAD_NAMES        \n",
    "        \n",
    "BAD_DEVICES, BAD_NAMES   "
   ]
  },
  {
   "cell_type": "code",
   "execution_count": 13,
   "id": "a7951a2c-71d0-4edb-9898-c376ad1ee663",
   "metadata": {},
   "outputs": [],
   "source": [
    "MONITOR = {pvname:epics.PV(pvname) for pvname in PVLIST_GOOD}\n",
    "sleep(1) # Wait for all to connect"
   ]
  },
  {
   "cell_type": "code",
   "execution_count": 14,
   "id": "aac53441-0b96-40c7-9d5e-a64552b7f852",
   "metadata": {},
   "outputs": [],
   "source": [
    "def get_pvdata():   \n",
    "    itime = isotime()\n",
    "    pvdata =  {k:MONITOR[k].get() for k in MONITOR}\n",
    "    return pvdata\n",
    "PVDATA = get_pvdata()"
   ]
  },
  {
   "cell_type": "markdown",
   "id": "64aa3a36-dcb9-4b7f-88d0-8a979cf94e54",
   "metadata": {},
   "source": [
    "# Fiter datamamps again"
   ]
  },
  {
   "cell_type": "code",
   "execution_count": 15,
   "id": "0ca856ef-529c-43f8-abbb-9ea3e2c47f9f",
   "metadata": {},
   "outputs": [],
   "source": [
    "for name in BAD_NAMES:\n",
    "    good_names.remove(name)"
   ]
  },
  {
   "cell_type": "code",
   "execution_count": 16,
   "id": "42045a8d-55ea-4d13-84ac-ea7fa0b27e17",
   "metadata": {},
   "outputs": [],
   "source": [
    "DM_GOOD = {}\n",
    "for name, dm in DM.items():\n",
    "    if name == 'tao_energy_measurements':\n",
    "        # don't filter\n",
    "        DM_GOOD[name] = dm\n",
    "    else:\n",
    "        DM_GOOD[name] = filter_datamap(dm, good_names)"
   ]
  },
  {
   "cell_type": "markdown",
   "id": "4ba00313-3fe3-40a1-9239-5207b832fe9a",
   "metadata": {},
   "source": [
    "# Tao conveniences"
   ]
  },
  {
   "cell_type": "code",
   "execution_count": 17,
   "id": "c14e4e96-2745-4707-a81e-f735fd2d43fd",
   "metadata": {},
   "outputs": [],
   "source": [
    "def tao_commands(pvdata):\n",
    "    cmds = []\n",
    "    for name, dm in DM_GOOD.items():\n",
    "        cmds.extend(dm.as_tao(pvdata))\n",
    "    return cmds"
   ]
  },
  {
   "cell_type": "code",
   "execution_count": 18,
   "id": "d9ddf570-db6e-4383-90e3-34809dadc631",
   "metadata": {},
   "outputs": [],
   "source": [
    "def save_cmds(cmds, filename='cmds.tao'): # Write to file for running with vanilla Tao\n",
    "    with open(filename, 'w') as f:\n",
    "        f.write('set global lattice_calc_on = F\\n')\n",
    "        f.write('set global plot_on = F\\n')    \n",
    "        for cmd in CMDS:\n",
    "            f.write(cmd+'\\n')\n",
    "        f.write('set global lattice_calc_on = T\\n')        \n",
    "        f.write('set global plot_on = T\\n')   "
   ]
  },
  {
   "cell_type": "code",
   "execution_count": 19,
   "id": "5c95d911-dd06-4dfd-885e-72902733eed4",
   "metadata": {},
   "outputs": [],
   "source": [
    "# Match HTR to design\n",
    "def set_htr_twiss(tao):\n",
    "    cmds=\"\"\"\n",
    "vv\n",
    "vd\n",
    "use dat HTR.begtwiss[1:4]\n",
    "use var begtwiss[1:4]\n",
    "olmdif\n",
    "\"\"\".split('\\n') \n",
    "    tao.cmds(cmds)\n",
    "    tao.cmd('set global lattice_calc_on = T')\n",
    "    tao.cmd('run')\n",
    "    tao.cmd('set global plot_on = T')\n",
    "#set_htr_twiss(tao)"
   ]
  },
  {
   "cell_type": "code",
   "execution_count": 20,
   "id": "00766e2a-31b4-4411-a901-01636c5fcbdb",
   "metadata": {},
   "outputs": [],
   "source": [
    "# mat2 x, y for PyEmittance\n",
    "def get_mats():\n",
    "    mat6 = tao.matrix('Q0H01#2', 'OTR0H04')['mat6']\n",
    "    mat2x = mat6[0:2, 0:2]\n",
    "    mat2y = mat6[2:4, 2:4]\n",
    "    return mat2x, mat2y"
   ]
  },
  {
   "cell_type": "markdown",
   "id": "ee617749-33fc-4275-a380-c4493b630c57",
   "metadata": {},
   "source": [
    "## Form commands using PVDATA and datamaps"
   ]
  },
  {
   "cell_type": "code",
   "execution_count": 21,
   "id": "fd889a62-9284-4c10-aaf8-641942327e1b",
   "metadata": {},
   "outputs": [],
   "source": [
    "# Master switches for element scaling\n",
    "tao.cmd('set ele quad::* field_master = T')\n",
    "\n",
    "# Turn off phase overlays \n",
    "tao.cmd('set ele SC_L* is_on = F', raises=False)\n",
    "\n",
    "if MODEL == 'sc_inj':\n",
    "    tao.cmd('set ele lcavity::* autoscale_phase = T')"
   ]
  },
  {
   "cell_type": "markdown",
   "id": "f7c79be7-a9b3-4a6f-9005-96951302e962",
   "metadata": {},
   "source": [
    "# Continuous loop"
   ]
  },
  {
   "cell_type": "code",
   "execution_count": 22,
   "id": "fcd4f747-08ec-4424-99eb-d61c6ac534f8",
   "metadata": {},
   "outputs": [],
   "source": [
    "def run1():\n",
    "    #sleep(.001)\n",
    "    t1 = time()\n",
    "    pvdata = get_pvdata()\n",
    "    cmds = tao_commands(pvdata)\n",
    "    tao.cmd('set global plot_on = F;set global lattice_calc_on = F')\n",
    "    tao.cmds(cmds); # Apply\n",
    "\n",
    "    tao.cmd('set global lattice_calc_on = T')\n",
    "    tao.cmd('set global plot_on = T')\n",
    "    #toggle_beam()\n",
    "    \n",
    "    dt = time()-t1\n",
    "    #print(dt)    \n"
   ]
  },
  {
   "cell_type": "code",
   "execution_count": 23,
   "id": "e6dc4b75-22ea-4e30-bdca-584655072b34",
   "metadata": {},
   "outputs": [
    {
     "name": "stdout",
     "output_type": "stream",
     "text": [
      "CPU times: user 23.9 ms, sys: 2.26 ms, total: 26.2 ms\n",
      "Wall time: 29.8 ms\n"
     ]
    }
   ],
   "source": [
    "%%time\n",
    "run1()"
   ]
  },
  {
   "cell_type": "code",
   "execution_count": 24,
   "id": "ef5d198d-f054-44b4-bdc4-c505957e9afe",
   "metadata": {},
   "outputs": [],
   "source": [
    "# Set twiss\n",
    "set_htr_twiss(tao)"
   ]
  },
  {
   "cell_type": "code",
   "execution_count": 25,
   "id": "d263d16d-924c-44af-b48b-ad2dab231667",
   "metadata": {},
   "outputs": [
    {
     "data": {
      "text/html": [
       "<div>\n",
       "<style scoped>\n",
       "    .dataframe tbody tr th:only-of-type {\n",
       "        vertical-align: middle;\n",
       "    }\n",
       "\n",
       "    .dataframe tbody tr th {\n",
       "        vertical-align: top;\n",
       "    }\n",
       "\n",
       "    .dataframe thead th {\n",
       "        text-align: right;\n",
       "    }\n",
       "</style>\n",
       "<table border=\"1\" class=\"dataframe\">\n",
       "  <thead>\n",
       "    <tr style=\"text-align: right;\">\n",
       "      <th></th>\n",
       "      <th>ele_name</th>\n",
       "      <th>charge_live</th>\n",
       "    </tr>\n",
       "  </thead>\n",
       "  <tbody>\n",
       "    <tr>\n",
       "      <th>0</th>\n",
       "      <td>BPM1B</td>\n",
       "      <td>78.840369</td>\n",
       "    </tr>\n",
       "    <tr>\n",
       "      <th>1</th>\n",
       "      <td>BPM2B</td>\n",
       "      <td>65.290631</td>\n",
       "    </tr>\n",
       "    <tr>\n",
       "      <th>2</th>\n",
       "      <td>BPM0H01</td>\n",
       "      <td>63.795613</td>\n",
       "    </tr>\n",
       "    <tr>\n",
       "      <th>3</th>\n",
       "      <td>BPM0H04</td>\n",
       "      <td>55.929705</td>\n",
       "    </tr>\n",
       "    <tr>\n",
       "      <th>4</th>\n",
       "      <td>BPM0H05</td>\n",
       "      <td>65.769464</td>\n",
       "    </tr>\n",
       "    <tr>\n",
       "      <th>5</th>\n",
       "      <td>BPM0H08</td>\n",
       "      <td>63.446005</td>\n",
       "    </tr>\n",
       "    <tr>\n",
       "      <th>6</th>\n",
       "      <td>BPMH1</td>\n",
       "      <td>63.412162</td>\n",
       "    </tr>\n",
       "    <tr>\n",
       "      <th>7</th>\n",
       "      <td>BPMH2</td>\n",
       "      <td>23.395678</td>\n",
       "    </tr>\n",
       "    <tr>\n",
       "      <th>8</th>\n",
       "      <td>BPMHD01</td>\n",
       "      <td>5.000936</td>\n",
       "    </tr>\n",
       "    <tr>\n",
       "      <th>9</th>\n",
       "      <td>BPMHD02</td>\n",
       "      <td>2.479826</td>\n",
       "    </tr>\n",
       "    <tr>\n",
       "      <th>10</th>\n",
       "      <td>BPMHD03</td>\n",
       "      <td>1.802031</td>\n",
       "    </tr>\n",
       "    <tr>\n",
       "      <th>11</th>\n",
       "      <td>BPMHD04</td>\n",
       "      <td>0.000000</td>\n",
       "    </tr>\n",
       "    <tr>\n",
       "      <th>12</th>\n",
       "      <td>BPMDG000</td>\n",
       "      <td>1.633812</td>\n",
       "    </tr>\n",
       "    <tr>\n",
       "      <th>13</th>\n",
       "      <td>BPMDG001</td>\n",
       "      <td>1.591310</td>\n",
       "    </tr>\n",
       "    <tr>\n",
       "      <th>14</th>\n",
       "      <td>BPMDG002</td>\n",
       "      <td>0.895909</td>\n",
       "    </tr>\n",
       "    <tr>\n",
       "      <th>15</th>\n",
       "      <td>BPMDG003</td>\n",
       "      <td>1.373474</td>\n",
       "    </tr>\n",
       "    <tr>\n",
       "      <th>16</th>\n",
       "      <td>BPMDG004</td>\n",
       "      <td>0.616444</td>\n",
       "    </tr>\n",
       "    <tr>\n",
       "      <th>17</th>\n",
       "      <td>BPMDG005</td>\n",
       "      <td>1.060640</td>\n",
       "    </tr>\n",
       "    <tr>\n",
       "      <th>18</th>\n",
       "      <td>BPMDG0RF</td>\n",
       "      <td>0.000000</td>\n",
       "    </tr>\n",
       "    <tr>\n",
       "      <th>19</th>\n",
       "      <td>BPMDG008</td>\n",
       "      <td>0.354604</td>\n",
       "    </tr>\n",
       "    <tr>\n",
       "      <th>20</th>\n",
       "      <td>BPMDG009</td>\n",
       "      <td>0.356177</td>\n",
       "    </tr>\n",
       "    <tr>\n",
       "      <th>21</th>\n",
       "      <td>BPMDG011</td>\n",
       "      <td>0.467173</td>\n",
       "    </tr>\n",
       "    <tr>\n",
       "      <th>22</th>\n",
       "      <td>BPMDG012</td>\n",
       "      <td>0.717575</td>\n",
       "    </tr>\n",
       "  </tbody>\n",
       "</table>\n",
       "</div>"
      ],
      "text/plain": [
       "    ele_name  charge_live\n",
       "0      BPM1B    78.840369\n",
       "1      BPM2B    65.290631\n",
       "2    BPM0H01    63.795613\n",
       "3    BPM0H04    55.929705\n",
       "4    BPM0H05    65.769464\n",
       "5    BPM0H08    63.446005\n",
       "6      BPMH1    63.412162\n",
       "7      BPMH2    23.395678\n",
       "8    BPMHD01     5.000936\n",
       "9    BPMHD02     2.479826\n",
       "10   BPMHD03     1.802031\n",
       "11   BPMHD04     0.000000\n",
       "12  BPMDG000     1.633812\n",
       "13  BPMDG001     1.591310\n",
       "14  BPMDG002     0.895909\n",
       "15  BPMDG003     1.373474\n",
       "16  BPMDG004     0.616444\n",
       "17  BPMDG005     1.060640\n",
       "18  BPMDG0RF     0.000000\n",
       "19  BPMDG008     0.354604\n",
       "20  BPMDG009     0.356177\n",
       "21  BPMDG011     0.467173\n",
       "22  BPMDG012     0.717575"
      ]
     },
     "execution_count": 25,
     "metadata": {},
     "output_type": "execute_result"
    }
   ],
   "source": [
    "# Check charge (pC)\n",
    "df = pd.DataFrame(tao.data_d_array('orbit', 'charge'))\n",
    "df['charge_live'] =df['meas_value']*1e12\n",
    "df[['ele_name', 'charge_live']]"
   ]
  },
  {
   "cell_type": "code",
   "execution_count": 26,
   "id": "f47b5131-b88c-4aab-a7b8-6dd8501bdb86",
   "metadata": {},
   "outputs": [
    {
     "name": "stdout",
     "output_type": "stream",
     "text": [
      "-------------------------\n",
      "Tao> use dat orbit.x\n",
      "  orbit.x[1:23]                                  Using: 1:11 13:18 20:23\n",
      "  orbit.y[1:23]                                  Using:\n",
      "  orbit.charge[1:23]                             Using:\n",
      "-------------------------\n",
      "Tao> use dat orbit.y\n",
      "  orbit.x[1:23]                                  Using: 1:11 13:18 20:23\n",
      "  orbit.y[1:23]                                  Using: 1:11 13:18 20:23\n",
      "  orbit.charge[1:23]                             Using:\n",
      "-------------------------\n",
      "Tao> sc floor -5 5\n",
      "-------------------------\n",
      "Tao> sc top 0 80\n",
      "-------------------------\n",
      "Tao> \n"
     ]
    }
   ],
   "source": [
    "%%tao\n",
    "use dat orbit.x\n",
    "use dat orbit.y\n",
    "sc floor -5 5\n",
    "sc top 0 80\n"
   ]
  },
  {
   "cell_type": "markdown",
   "id": "ad9e2cb7-0275-4113-b25c-9d65d491a65c",
   "metadata": {},
   "source": [
    "# Continuous run\n",
    "    "
   ]
  },
  {
   "cell_type": "code",
   "execution_count": null,
   "id": "7c09d880-3f92-4e21-ba30-2ee41ce6e3f1",
   "metadata": {},
   "outputs": [],
   "source": [
    "# Run forever\n",
    "while True:\n",
    "    run1()"
   ]
  }
 ],
 "metadata": {
  "kernelspec": {
   "display_name": "Python 3 (ipykernel)",
   "language": "python",
   "name": "python3"
  },
  "language_info": {
   "codemirror_mode": {
    "name": "ipython",
    "version": 3
   },
   "file_extension": ".py",
   "mimetype": "text/x-python",
   "name": "python",
   "nbconvert_exporter": "python",
   "pygments_lexer": "ipython3",
   "version": "3.9.13"
  }
 },
 "nbformat": 4,
 "nbformat_minor": 5
}
