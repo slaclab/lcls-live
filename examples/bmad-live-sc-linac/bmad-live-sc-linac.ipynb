{
 "cells": [
  {
   "cell_type": "markdown",
   "id": "ff6180e4-ec7f-4aa7-8911-9706eaab94d5",
   "metadata": {},
   "source": [
    "# `sc_linac` Live"
   ]
  },
  {
   "cell_type": "code",
   "execution_count": 1,
   "id": "c8629902-88b6-4f74-9352-9ed5a8dcef83",
   "metadata": {},
   "outputs": [],
   "source": [
    "# Useful for debugging\n",
    "%load_ext autoreload\n",
    "%autoreload 2\n",
    "\n",
    "%config InlineBackend.figure_format = 'retina'\n",
    "%matplotlib inline"
   ]
  },
  {
   "cell_type": "code",
   "execution_count": 2,
   "id": "e39b4706-f357-4ebc-9adc-55a33b376220",
   "metadata": {},
   "outputs": [],
   "source": [
    "from lcls_live.datamaps import get_datamaps\n",
    "from lcls_live.archiver import lcls_archiver_restore\n",
    "\n",
    "from lcls_live.tools import isotime\n",
    "\n",
    "import matplotlib.pyplot as plt\n",
    "import numpy as np\n",
    "\n",
    "import os"
   ]
  },
  {
   "cell_type": "code",
   "execution_count": 3,
   "id": "791d2fa6-05cd-4813-a307-843b84fd140d",
   "metadata": {},
   "outputs": [],
   "source": [
    "# Pick a model and slice\n",
    "\n",
    "MODEL = 'sc_hxr' # or sc_diag0 or sc_inj\n",
    "\n",
    "BEGELE = 'BEGINNING'\n",
    "#ENDELE = 'OTR0H04'\n",
    "ENDELE = 'ENDCOL0'"
   ]
  },
  {
   "cell_type": "markdown",
   "id": "bbdbf72a-9063-4a2c-a9d9-2d427fa1588e",
   "metadata": {},
   "source": [
    "# Bmad model"
   ]
  },
  {
   "cell_type": "code",
   "execution_count": 4,
   "id": "bad53071-c9d1-46b8-8def-ac712aad4cb9",
   "metadata": {},
   "outputs": [],
   "source": [
    "from pytao import Tao\n",
    "import pandas as pd"
   ]
  },
  {
   "cell_type": "code",
   "execution_count": 5,
   "id": "fd5ec66a-c8d2-411f-a170-65f452c0d406",
   "metadata": {},
   "outputs": [],
   "source": [
    "tao = Tao(f'-init $LCLS_LATTICE/bmad/models/{MODEL}/tao.init  -slice  {BEGELE}:{ENDELE}')\n",
    "tao.cmd('place floor bpm_orbit')\n",
    "tao.cmd('place middle energy')\n",
    "tao.cmd('sc floor -10 10')\n",
    "\n",
    "def ele_info(ele):\n",
    "    dat = tao.ele_head(ele)\n",
    "    dat.update(tao.ele_gen_attribs(ele))\n",
    "    return dat\n",
    "\n",
    "def ele_table(match=\"*\"):\n",
    "    ix_ele = tao.lat_list(match, \"ele.ix_ele\", flags=\"-no_slaves\")\n",
    "    dat = list(map(ele_info, ix_ele))\n",
    "    df = pd.DataFrame(dat, index=ix_ele)\n",
    "    df.L.fillna(0, inplace=True)\n",
    "    df['s_center'] = df['s'] - df['L']/2\n",
    "    df['s_beginning'] = df['s'] - df['L']\n",
    "    return  df\n",
    "\n",
    "df = ele_table()\n",
    "\n",
    "# Elements with device names\n",
    "devices = df[df['alias'] != '']\n",
    "#devices['name alias s'.split()]"
   ]
  },
  {
   "cell_type": "markdown",
   "id": "0f16a169-96d7-42b4-85a9-edd2694a0d3d",
   "metadata": {},
   "source": [
    "## Datamaps, and all PVs needed"
   ]
  },
  {
   "cell_type": "code",
   "execution_count": 6,
   "id": "bf51c97d-7be2-4be7-9b29-6004c89d70c2",
   "metadata": {},
   "outputs": [],
   "source": [
    "from copy import deepcopy\n",
    "def filter_datamap(dm, bmad_names):\n",
    "    bnames = dm.data['bmad_name'] \n",
    "    bmad_names = set(bmad_names)\n",
    "    ix = bnames[[name in bmad_names for name in bnames]].index\n",
    "    dm2 = deepcopy(dm)\n",
    "    dm2.data = dm.data.loc[ix]\n",
    "    return dm2"
   ]
  },
  {
   "cell_type": "code",
   "execution_count": 7,
   "id": "a2dfa10b-5b17-4854-be99-6c90c9b11658",
   "metadata": {},
   "outputs": [
    {
     "data": {
      "text/plain": [
       "dict_keys(['bpms', 'cavities', 'correctors', 'tao_energy_measurements', 'quad', 'solenoid'])"
      ]
     },
     "execution_count": 7,
     "metadata": {},
     "output_type": "execute_result"
    }
   ],
   "source": [
    "DM0 = get_datamaps(MODEL)\n",
    "DM0.keys()"
   ]
  },
  {
   "cell_type": "code",
   "execution_count": 8,
   "id": "456e089d-38f1-4ec0-9b90-ff8478019b38",
   "metadata": {},
   "outputs": [
    {
     "data": {
      "text/plain": [
       "TabularDataMap(data=                      pvname         tao_datum    tao_factor bmad_name\n",
       "0       BPMS:GUNB:314:XSCH1H        orbit.x[1]  1.000000e-03     BPM1B\n",
       "1       BPMS:GUNB:925:XSCH1H        orbit.x[2]  1.000000e-03     BPM2B\n",
       "2        BPMS:HTR:120:XSCH1H        orbit.x[3]  1.000000e-03   BPM0H01\n",
       "3        BPMS:HTR:320:XSCH1H        orbit.x[4]  1.000000e-03   BPM0H04\n",
       "4        BPMS:HTR:365:XSCH1H        orbit.x[5]  1.000000e-03   BPM0H05\n",
       "..                       ...               ...           ...       ...\n",
       "362  BPMS:COL0:640:TMITSCH1H  orbit.charge[21]  1.602177e-19   BPMC008\n",
       "363  BPMS:COL0:720:TMITSCH1H  orbit.charge[22]  1.602177e-19   BPMC009\n",
       "364  BPMS:COL0:800:TMITSCH1H  orbit.charge[23]  1.602177e-19   BPMC010\n",
       "365  BPMS:COL0:880:TMITSCH1H  orbit.charge[24]  1.602177e-19   BPMC011\n",
       "366  BPMS:COL0:940:TMITSCH1H  orbit.charge[25]  1.602177e-19   BPMC012\n",
       "\n",
       "[75 rows x 4 columns], pvname='pvname', element='tao_datum', attribute='', factor='tao_factor', offset='', bmad_format='! No equivalent Bmad format for: set data {element}|meas  = {value}', tao_format='set data {element}|meas  = {value}')"
      ]
     },
     "execution_count": 8,
     "metadata": {},
     "output_type": "execute_result"
    }
   ],
   "source": [
    "good_names = set(df['name'])\n",
    "bad_eles = [] # any bad eles\n",
    "\n",
    "for ele in bad_eles:\n",
    "    good_names.remove(ele)\n",
    "\n",
    "DM = {}\n",
    "for name, dm in DM0.items():\n",
    "    if name == 'tao_energy_measurements':\n",
    "        # don't filter\n",
    "        DM[name] = dm\n",
    "    else:\n",
    "        DM[name] = filter_datamap(dm, good_names)\n",
    "\n",
    "DM['bpms']"
   ]
  },
  {
   "cell_type": "code",
   "execution_count": 9,
   "id": "7e237216-0ea2-4dd4-9c85-fb0310f59b64",
   "metadata": {},
   "outputs": [],
   "source": [
    "# datamaps to exclude\n",
    "DENYLIST = [\n",
    "    #'bpms',\n",
    "   # 'cavities',\n",
    "    'correctors',\n",
    "    #'quad',\n",
    "]"
   ]
  },
  {
   "cell_type": "code",
   "execution_count": 10,
   "id": "49cbb944-b46c-42e5-bf39-e6bcaef41023",
   "metadata": {},
   "outputs": [
    {
     "data": {
      "text/plain": [
       "['BPMS:COL0:240:YSCH1H',\n",
       " 'ACCL:L0B:0120:AACTMEAN',\n",
       " 'BPMS:COL0:880:XSCH1H',\n",
       " 'SOLN:GUNB:100:BACT',\n",
       " 'BPMS:COL0:260:XSCH1H',\n",
       " 'BPMS:HTR:830:TMITSCH1H',\n",
       " 'BPMS:GUNB:925:YSCH1H',\n",
       " 'QUAD:COL0:480:BACT',\n",
       " 'ACCL:L0B:0110:PACTMEAN',\n",
       " 'BPMS:COL0:320:XSCH1H']"
      ]
     },
     "execution_count": 10,
     "metadata": {},
     "output_type": "execute_result"
    }
   ],
   "source": [
    "# PVs needed\n",
    "PVLIST =  []\n",
    "for name, dm in DM.items():\n",
    "    if name in DENYLIST:\n",
    "        continue\n",
    "    PVLIST.extend(dm.pvlist)\n",
    "PVLIST = list(set(PVLIST))\n",
    "len(PVLIST)\n",
    "PVLIST[0:10]"
   ]
  },
  {
   "cell_type": "markdown",
   "id": "9b19a080-f484-4a98-8bd0-435932a6b56e",
   "metadata": {},
   "source": [
    "## EPICS"
   ]
  },
  {
   "cell_type": "code",
   "execution_count": 11,
   "id": "c85d5f75-c26f-4b5e-8d7c-df72e2105105",
   "metadata": {},
   "outputs": [],
   "source": [
    "import epics\n",
    "from epics import caget_many, caget\n",
    "from time import sleep, time\n",
    "\n",
    "def caget_dict(pvlist):\n",
    "    return dict(zip(pvlist, caget_many(pvlist)))"
   ]
  },
  {
   "cell_type": "code",
   "execution_count": 12,
   "id": "defa1300-574c-4bd7-8b5c-100e41308265",
   "metadata": {},
   "outputs": [
    {
     "name": "stdout",
     "output_type": "stream",
     "text": [
      "Bad PV: BPMS:COL0:260:XSCH1H\n",
      "Bad PV: BPMS:COL0:720:XSCH1H\n",
      "Bad PV: BPMS:COL0:480:TMITSCH1H\n",
      "Bad PV: BPMS:COL0:720:YSCH1H\n",
      "Bad PV: BPMS:HTR:980:TMITSCH1H\n",
      "Bad PV: BPMS:COL0:800:TMITSCH1H\n",
      "Bad PV: BPMS:COL0:480:XSCH1H\n",
      "Bad PV: BPMS:COL0:800:YSCH1H\n",
      "Bad PV: BPMS:HTR:980:YSCH1H\n",
      "Bad PV: BPMS:COL0:260:TMITSCH1H\n",
      "Bad PV: BPMS:COL0:480:YSCH1H\n",
      "Bad PV: BPMS:COL0:720:TMITSCH1H\n",
      "Bad PV: BPMS:COL0:800:XSCH1H\n",
      "Bad PV: BPMS:HTR:980:XSCH1H\n",
      "Bad PV: BPMS:COL0:260:YSCH1H\n"
     ]
    },
    {
     "data": {
      "text/plain": [
       "({'BPMS:COL0:260',\n",
       "  'BPMS:COL0:480',\n",
       "  'BPMS:COL0:720',\n",
       "  'BPMS:COL0:800',\n",
       "  'BPMS:HTR:980'},\n",
       " ['BPMC006', 'BPMC009', 'BPMHD04', 'BPMC010', 'BPMC002'])"
      ]
     },
     "execution_count": 12,
     "metadata": {},
     "output_type": "execute_result"
    }
   ],
   "source": [
    "# Test get\n",
    "PVDATA = caget_dict(PVLIST)\n",
    "BAD_DEVICES = set()\n",
    "PVLIST_GOOD = []\n",
    "for k, v in PVDATA.items():\n",
    "    if v is None:\n",
    "        print('Bad PV:', k)\n",
    "        device = ':'.join((k.split(':')[:-1]))\n",
    "        BAD_DEVICES.add(device)\n",
    "    else:\n",
    "        PVLIST_GOOD.append(k)\n",
    "        \n",
    "# Get bmad names\n",
    "bdf = devices[['alias', 'name']].set_index('alias')\n",
    "BAD_NAMES = list(bdf.loc[list(BAD_DEVICES)]['name'])\n",
    "BAD_NAMES        \n",
    "        \n",
    "BAD_DEVICES, BAD_NAMES   "
   ]
  },
  {
   "cell_type": "code",
   "execution_count": 13,
   "id": "a7951a2c-71d0-4edb-9898-c376ad1ee663",
   "metadata": {},
   "outputs": [],
   "source": [
    "MONITOR = {pvname:epics.PV(pvname) for pvname in PVLIST_GOOD}\n",
    "sleep(1) # Wait for all to connect"
   ]
  },
  {
   "cell_type": "code",
   "execution_count": 14,
   "id": "aac53441-0b96-40c7-9d5e-a64552b7f852",
   "metadata": {},
   "outputs": [],
   "source": [
    "def get_pvdata():   \n",
    "    itime = isotime()\n",
    "    pvdata =  {k:MONITOR[k].get() for k in MONITOR}\n",
    "    return pvdata\n",
    "PVDATA = get_pvdata()"
   ]
  },
  {
   "cell_type": "markdown",
   "id": "64aa3a36-dcb9-4b7f-88d0-8a979cf94e54",
   "metadata": {},
   "source": [
    "# Fiter datamamps again"
   ]
  },
  {
   "cell_type": "code",
   "execution_count": 15,
   "id": "0ca856ef-529c-43f8-abbb-9ea3e2c47f9f",
   "metadata": {},
   "outputs": [],
   "source": [
    "for name in BAD_NAMES:\n",
    "    good_names.remove(name)"
   ]
  },
  {
   "cell_type": "code",
   "execution_count": 16,
   "id": "42045a8d-55ea-4d13-84ac-ea7fa0b27e17",
   "metadata": {},
   "outputs": [],
   "source": [
    "DM_GOOD = {}\n",
    "for name, dm in DM.items():\n",
    "    if name == 'tao_energy_measurements':\n",
    "        # don't filter\n",
    "        DM_GOOD[name] = dm\n",
    "    else:\n",
    "        DM_GOOD[name] = filter_datamap(dm, good_names)"
   ]
  },
  {
   "cell_type": "markdown",
   "id": "4ba00313-3fe3-40a1-9239-5207b832fe9a",
   "metadata": {},
   "source": [
    "# Tao conveniences"
   ]
  },
  {
   "cell_type": "code",
   "execution_count": 17,
   "id": "c14e4e96-2745-4707-a81e-f735fd2d43fd",
   "metadata": {},
   "outputs": [],
   "source": [
    "def tao_commands(pvdata):\n",
    "    cmds = []\n",
    "    for name, dm in DM_GOOD.items():\n",
    "        cmds.extend(dm.as_tao(pvdata))\n",
    "    return cmds"
   ]
  },
  {
   "cell_type": "code",
   "execution_count": 18,
   "id": "d9ddf570-db6e-4383-90e3-34809dadc631",
   "metadata": {},
   "outputs": [],
   "source": [
    "def save_cmds(cmds, filename='cmds.tao'): # Write to file for running with vanilla Tao\n",
    "    with open(filename, 'w') as f:\n",
    "        f.write('set global lattice_calc_on = F\\n')\n",
    "        f.write('set global plot_on = F\\n')    \n",
    "        for cmd in CMDS:\n",
    "            f.write(cmd+'\\n')\n",
    "        f.write('set global lattice_calc_on = T\\n')        \n",
    "        f.write('set global plot_on = T\\n')   "
   ]
  },
  {
   "cell_type": "code",
   "execution_count": 19,
   "id": "5c95d911-dd06-4dfd-885e-72902733eed4",
   "metadata": {},
   "outputs": [],
   "source": [
    "# Match HTR to design\n",
    "def set_htr_twiss(tao):\n",
    "    cmds=\"\"\"\n",
    "vv\n",
    "vd\n",
    "use dat HTR.begtwiss[1:4]\n",
    "use var begtwiss[1:4]\n",
    "olmdif\n",
    "\"\"\".split('\\n') \n",
    "    tao.cmds(cmds)\n",
    "    tao.cmd('set global lattice_calc_on = T')\n",
    "    tao.cmd('run')\n",
    "    tao.cmd('set global plot_on = T')\n",
    "#set_htr_twiss(tao)"
   ]
  },
  {
   "cell_type": "code",
   "execution_count": 20,
   "id": "00766e2a-31b4-4411-a901-01636c5fcbdb",
   "metadata": {},
   "outputs": [],
   "source": [
    "# mat2 x, y for PyEmittance\n",
    "def get_mats():\n",
    "    mat6 = tao.matrix('Q0H01#2', 'OTR0H04')['mat6']\n",
    "    mat2x = mat6[0:2, 0:2]\n",
    "    mat2y = mat6[2:4, 2:4]\n",
    "    return mat2x, mat2y"
   ]
  },
  {
   "cell_type": "markdown",
   "id": "ee617749-33fc-4275-a380-c4493b630c57",
   "metadata": {},
   "source": [
    "## Form commands using PVDATA and datamaps"
   ]
  },
  {
   "cell_type": "code",
   "execution_count": 21,
   "id": "fd889a62-9284-4c10-aaf8-641942327e1b",
   "metadata": {},
   "outputs": [],
   "source": [
    "# Master switches for element scaling\n",
    "tao.cmd('set ele quad::* field_master = T')\n",
    "#tao.cmd('set ele lcavity::CAVL* autoscale_amplitude = T') # field_au\n",
    "if MODEL == 'sc_inj':\n",
    "    tao.cmd('set ele lcavity::CAVL* autoscale_phase = T')"
   ]
  },
  {
   "cell_type": "markdown",
   "id": "f7c79be7-a9b3-4a6f-9005-96951302e962",
   "metadata": {},
   "source": [
    "# Continuous loop"
   ]
  },
  {
   "cell_type": "code",
   "execution_count": 22,
   "id": "fcd4f747-08ec-4424-99eb-d61c6ac534f8",
   "metadata": {},
   "outputs": [],
   "source": [
    "def run1():\n",
    "    #sleep(.001)\n",
    "    t1 = time()\n",
    "    pvdata = get_pvdata()\n",
    "    cmds = tao_commands(pvdata)\n",
    "    tao.cmd('set global plot_on = F;set global lattice_calc_on = F')\n",
    "    tao.cmds(cmds); # Apply\n",
    "\n",
    "    tao.cmd('set global lattice_calc_on = T')\n",
    "    tao.cmd('set global plot_on = T')\n",
    "    #toggle_beam()\n",
    "    \n",
    "    dt = time()-t1\n",
    "    #print(dt)    \n"
   ]
  },
  {
   "cell_type": "code",
   "execution_count": 23,
   "id": "e6dc4b75-22ea-4e30-bdca-584655072b34",
   "metadata": {},
   "outputs": [
    {
     "name": "stdout",
     "output_type": "stream",
     "text": [
      "CPU times: user 23.1 ms, sys: 1.71 ms, total: 24.8 ms\n",
      "Wall time: 25.6 ms\n"
     ]
    }
   ],
   "source": [
    "%%time\n",
    "run1()"
   ]
  },
  {
   "cell_type": "code",
   "execution_count": 24,
   "id": "ef5d198d-f054-44b4-bdc4-c505957e9afe",
   "metadata": {},
   "outputs": [],
   "source": [
    "# Set twiss\n",
    "set_htr_twiss(tao)"
   ]
  },
  {
   "cell_type": "code",
   "execution_count": 25,
   "id": "f47b5131-b88c-4aab-a7b8-6dd8501bdb86",
   "metadata": {},
   "outputs": [
    {
     "name": "stdout",
     "output_type": "stream",
     "text": [
      "-------------------------\n",
      "Tao> use dat orbit.x\n",
      "  orbit.x[1:171]                                 Using: 1:11 13:14 16:18 20:21 24:25\n",
      "  orbit.y[1:171]                                 Using:\n",
      "  orbit.charge[1:171]                            Using:\n",
      "-------------------------\n",
      "Tao> use dat orbit.y\n",
      "  orbit.x[1:171]                                 Using: 1:11 13:14 16:18 20:21 24:25\n",
      "  orbit.y[1:171]                                 Using: 1:11 13:14 16:18 20:21 24:25\n",
      "  orbit.charge[1:171]                            Using:\n",
      "-------------------------\n",
      "Tao> sc floor -5 5\n",
      "-------------------------\n",
      "Tao> \n"
     ]
    }
   ],
   "source": [
    "%%tao\n",
    "use dat orbit.x\n",
    "use dat orbit.y\n",
    "sc floor -5 5"
   ]
  },
  {
   "cell_type": "markdown",
   "id": "ad9e2cb7-0275-4113-b25c-9d65d491a65c",
   "metadata": {},
   "source": [
    "# Continuous run\n",
    "    "
   ]
  },
  {
   "cell_type": "code",
   "execution_count": null,
   "id": "7c09d880-3f92-4e21-ba30-2ee41ce6e3f1",
   "metadata": {},
   "outputs": [],
   "source": [
    "# Run forever\n",
    "while True:\n",
    "    run1()"
   ]
  }
 ],
 "metadata": {
  "kernelspec": {
   "display_name": "Python 3 (ipykernel)",
   "language": "python",
   "name": "python3"
  },
  "language_info": {
   "codemirror_mode": {
    "name": "ipython",
    "version": 3
   },
   "file_extension": ".py",
   "mimetype": "text/x-python",
   "name": "python",
   "nbconvert_exporter": "python",
   "pygments_lexer": "ipython3",
   "version": "3.9.13"
  }
 },
 "nbformat": 4,
 "nbformat_minor": 5
}
