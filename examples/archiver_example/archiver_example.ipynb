{
 "cells": [
  {
   "cell_type": "markdown",
   "metadata": {},
   "source": [
    "# LCLS Archiver restore\n",
    "\n",
    "These examples show how single snapshots, and time series can be retreived from the archiver appliance.\n",
    "\n",
    "Note that the times must always be in ISO 8601 format, UTC time (not local time). \n"
   ]
  },
  {
   "cell_type": "code",
   "execution_count": 1,
   "metadata": {},
   "outputs": [
    {
     "name": "stdout",
     "output_type": "stream",
     "text": [
      "Populating the interactive namespace from numpy and matplotlib\n"
     ]
    }
   ],
   "source": [
    "%pylab --no-import-all inline\n",
    "%config InlineBackend.figure_format = 'retina'"
   ]
  },
  {
   "cell_type": "code",
   "execution_count": 2,
   "metadata": {},
   "outputs": [
    {
     "data": {
      "text/plain": [
       "\u001b[0;31mSignature:\u001b[0m\n",
       "\u001b[0mlcls_archiver_restore\u001b[0m\u001b[0;34m(\u001b[0m\u001b[0;34m\u001b[0m\n",
       "\u001b[0;34m\u001b[0m    \u001b[0mpvlist\u001b[0m\u001b[0;34m,\u001b[0m\u001b[0;34m\u001b[0m\n",
       "\u001b[0;34m\u001b[0m    \u001b[0misotime\u001b[0m\u001b[0;34m=\u001b[0m\u001b[0;34m'2018-08-11T10:40:00.000-07:00'\u001b[0m\u001b[0;34m,\u001b[0m\u001b[0;34m\u001b[0m\n",
       "\u001b[0;34m\u001b[0m    \u001b[0mverbose\u001b[0m\u001b[0;34m=\u001b[0m\u001b[0;32mTrue\u001b[0m\u001b[0;34m,\u001b[0m\u001b[0;34m\u001b[0m\n",
       "\u001b[0;34m\u001b[0m\u001b[0;34m)\u001b[0m\u001b[0;34m\u001b[0m\u001b[0;34m\u001b[0m\u001b[0m\n",
       "\u001b[0;31mDocstring:\u001b[0m\n",
       "Returns a dict of {'pvname':val} given a list of pvnames, at a time in ISO 8601 format, using the EPICS Archiver Appliance:\n",
       "\n",
       "https://slacmshankar.github.io/epicsarchiver_docs/userguide.html\n",
       "\u001b[0;31mFile:\u001b[0m      ~/Code/GitHub/lcls-live/lcls_live/archiver.py\n",
       "\u001b[0;31mType:\u001b[0m      function\n"
      ]
     },
     "metadata": {},
     "output_type": "display_data"
    }
   ],
   "source": [
    "from lcls_live.archiver import lcls_archiver_restore\n",
    "from lcls_live import data_dir\n",
    "import json\n",
    "import os\n",
    "\n",
    "# This is the main function\n",
    "?lcls_archiver_restore"
   ]
  },
  {
   "cell_type": "markdown",
   "metadata": {},
   "source": [
    "## Optional: off-site setup"
   ]
  },
  {
   "cell_type": "code",
   "execution_count": 3,
   "metadata": {},
   "outputs": [],
   "source": [
    "# Optional: \n",
    "\n",
    "# Open an SSH tunnel in a terminal like:\n",
    "# ssh -D 8080 <some user>@<some SLAC machine>\n",
    "# And then set:\n",
    "os.environ['http_proxy']='socks5h://localhost:8080'\n",
    "os.environ['HTTPS_PROXY']='socks5h://localhost:8080'\n",
    "os.environ['ALL_PROXY']='socks5h://localhost:8080'"
   ]
  },
  {
   "cell_type": "markdown",
   "metadata": {},
   "source": [
    "# Restore known PVs"
   ]
  },
  {
   "cell_type": "code",
   "execution_count": 4,
   "metadata": {},
   "outputs": [
    {
     "name": "stdout",
     "output_type": "stream",
     "text": [
      "Requesting: http://lcls-archapp.slac.stanford.edu/retrieval/data/getDataAtTime?at=2020-07-09T05:01:21.000000-07:00&includeProxies=true\n"
     ]
    },
    {
     "data": {
      "text/plain": [
       "{'IRIS:LR20:130:MOTR_ANGLE': 220.6020050048828,\n",
       " 'SOLN:IN20:121:BDES': 0.4745,\n",
       " 'QUAD:IN20:121:BDES': 0.0,\n",
       " 'QUAD:IN20:122:BDES': 0.0,\n",
       " 'ACCL:IN20:300:L0A_ADES': 58.5,\n",
       " 'ACCL:IN20:300:L0A_PDES': 0.0}"
      ]
     },
     "execution_count": 4,
     "metadata": {},
     "output_type": "execute_result"
    }
   ],
   "source": [
    "pvlist = [\n",
    "          'IRIS:LR20:130:MOTR_ANGLE', \n",
    "          'SOLN:IN20:121:BDES',\n",
    "          'QUAD:IN20:121:BDES',\n",
    "          'QUAD:IN20:122:BDES',\n",
    "          'ACCL:IN20:300:L0A_ADES',\n",
    "          'ACCL:IN20:300:L0A_PDES'\n",
    "]\n",
    "\n",
    "lcls_archiver_restore(pvlist, '2020-07-09T05:01:21.000000-07:00')"
   ]
  },
  {
   "cell_type": "markdown",
   "metadata": {},
   "source": [
    "## Get snapshot from a large list\n",
    "\n",
    "Same as above, but for processing large amounts of data"
   ]
  },
  {
   "cell_type": "code",
   "execution_count": 5,
   "metadata": {},
   "outputs": [
    {
     "data": {
      "text/plain": [
       "['ACCL:IN20:350:FUDGE', 'ACCL:LI21:180:L1X_S_AV', 'ACCL:LI21:180:L1X_S_PV']"
      ]
     },
     "execution_count": 5,
     "metadata": {},
     "output_type": "execute_result"
    }
   ],
   "source": [
    "# Get list of PVs\n",
    "fname = os.path.join(data_dir, 'classic/full_pvlist.json')\n",
    "pvlist = json.load(open(fname))\n",
    "pvlist[0:3]"
   ]
  },
  {
   "cell_type": "code",
   "execution_count": 6,
   "metadata": {},
   "outputs": [],
   "source": [
    "# Simple filename naming\n",
    "def snapshot_filename(isotime):\n",
    "    return  'epics_snapshot_'+isotime+'.json'"
   ]
  },
  {
   "cell_type": "code",
   "execution_count": 7,
   "metadata": {},
   "outputs": [
    {
     "name": "stdout",
     "output_type": "stream",
     "text": [
      "Requesting: http://lcls-archapp.slac.stanford.edu/retrieval/data/getDataAtTime?at=2018-03-06T15:21:15.000000-08:00&includeProxies=true\n"
     ]
    },
    {
     "data": {
      "text/plain": [
       "{'ACCL:IN20:350:FUDGE': 1.0039740050739583,\n",
       " 'ACCL:LI21:180:L1X_S_AV': 20.01551950520014,\n",
       " 'ACCL:LI21:180:L1X_S_PV': -159.9562692633193,\n",
       " 'ACCL:LI21:1:FUDGE': 0.9916613729353901,\n",
       " 'ACCL:LI21:1:L1S_S_PV': -26.12494033014282,\n",
       " 'ACCL:LI22:1:FUDGE': 1.0191546491070553,\n",
       " 'ACCL:LI24:100:KLY_PDES': 11.508785641181667,\n",
       " 'ACCL:LI24:200:KLY_PDES': -75.12033429656984,\n",
       " 'ACCL:LI24:300:KLY_PDES': -31.816975843257694,\n",
       " 'ACCL:LI25:1:FUDGE': 1.0398871739006177}"
      ]
     },
     "execution_count": 7,
     "metadata": {},
     "output_type": "execute_result"
    }
   ],
   "source": [
    "times = ['2018-03-06T15:21:15.000000-08:00']\n",
    "\n",
    "lcls_archiver_restore(pvlist[0:10], times[0])"
   ]
  },
  {
   "cell_type": "code",
   "execution_count": 8,
   "metadata": {},
   "outputs": [
    {
     "name": "stdout",
     "output_type": "stream",
     "text": [
      "Requesting: http://lcls-archapp.slac.stanford.edu/retrieval/data/getDataAtTime?at=2018-03-06T15:21:15.000000-08:00&includeProxies=true\n",
      "Warning: Missing PV: BEND:LTU1:866:BDES\n",
      "Warning: Missing PV: BEND:LTU1:868:BDES\n",
      "Warning: Missing PV: BEND:LTU1:870:BDES\n",
      "Warning: Missing PV: BEND:LTU1:872:BDES\n",
      "Warning: Missing PV: SHTR:LR20:200:UV_STS\n",
      "Warning: Missing PV: XCOR:BSYH:485:BACT\n",
      "Warning: Missing PV: XCOR:BSYH:486:BACT\n",
      "Warning: Missing PV: YCOR:BSYH:486:BACT\n",
      "Warning: Missing PV: YCOR:LTU0:105:BDES\n",
      "Warning: Missing PV: YCOR:LTU0:133:BDES\n",
      "Warning: Missing PV: YCOR:LTU0:171:BDES\n",
      "Warning: Missing PV: YCOR:LTU0:185:BDES\n",
      "Warning: Missing PV: YCOR:LTU1:253:BDES\n",
      "Warning: Missing PV: YCOR:LTU1:293:BDES\n",
      "Warning: Missing PV: YCOR:LTU1:353:BDES\n",
      "Warning: Missing PV: YCOR:LTU1:453:BDES\n",
      "Warning: Missing PV: YCOR:LTU1:493:BDES\n",
      "Warning: Missing PV: YCOR:LTU1:563:BDES\n",
      "Warning: Missing PV: YCOR:LTU1:593:BDES\n",
      "Warning: Missing PV: YCOR:LTU1:611:BDES\n",
      "Warning: Missing PV: YCOR:LTU1:657:BDES\n",
      "Warning: Missing PV: YCOR:LTU1:727:BDES\n",
      "Warning: Missing PV: YCOR:LTU1:747:BDES\n",
      "Warning: Missing PV: YCOR:LTU1:767:BDES\n",
      "Warning: Missing PV: YCOR:LTU1:837:BDES\n",
      "Written: ./data/epics_snapshot_2018-03-06T15:21:15.000000-08:00.json\n",
      "CPU times: user 18 ms, sys: 5.24 ms, total: 23.2 ms\n",
      "Wall time: 3.05 s\n"
     ]
    }
   ],
   "source": [
    "%%time\n",
    "# Make multiple files\n",
    "root = './data/'\n",
    "for t in times:\n",
    "    newdata = lcls_archiver_restore(pvlist, t)\n",
    "    fname = os.path.join(root, snapshot_filename(t))\n",
    "    with open(fname, 'w') as f:\n",
    "        f.write(json.dumps(newdata))\n",
    "    print('Written:', fname)"
   ]
  },
  {
   "cell_type": "markdown",
   "metadata": {},
   "source": [
    "# Get history of a single PV\n",
    "\n",
    "This package also has a couple functions for getting the time history data of a pv.\n",
    "\n",
    "The first, `lcls_archiver_history`, returns the raw data"
   ]
  },
  {
   "cell_type": "code",
   "execution_count": 9,
   "metadata": {},
   "outputs": [
    {
     "name": "stdout",
     "output_type": "stream",
     "text": [
      "http://lcls-archapp.slac.stanford.edu/retrieval/data/getData.json?pv=SOLN:IN20:121:BDES&from=2020-07-09T05:01:15.000000-07:00&to=2020-07-09T05:03:00.000000-07:00\n"
     ]
    },
    {
     "data": {
      "text/plain": [
       "([1594296071, 1594296075, 1594296079, 1594296084, 1594296088],\n",
       " [0.47, 0.47224999999999995, 0.4745, 0.47675, 0.479])"
      ]
     },
     "execution_count": 9,
     "metadata": {},
     "output_type": "execute_result"
    }
   ],
   "source": [
    "from lcls_live.archiver import lcls_archiver_history, lcls_archiver_history_dataframe\n",
    "\n",
    "t_start = '2020-07-09T05:01:15.000000-07:00'\n",
    "t_end =   '2020-07-09T05:03:00.000000-07:00'\n",
    "\n",
    "secs, vals = lcls_archiver_history('SOLN:IN20:121:BDES', start=t_start, end=t_end)\n",
    "\n",
    "secs[0:5], vals[0:5]"
   ]
  },
  {
   "cell_type": "markdown",
   "metadata": {},
   "source": [
    "More convenient, is to format this as a pandas dataframe. "
   ]
  },
  {
   "cell_type": "code",
   "execution_count": 10,
   "metadata": {},
   "outputs": [
    {
     "data": {
      "text/plain": [
       "\u001b[0;31mSignature:\u001b[0m \u001b[0mlcls_archiver_history_dataframe\u001b[0m\u001b[0;34m(\u001b[0m\u001b[0mpvname\u001b[0m\u001b[0;34m,\u001b[0m \u001b[0;34m**\u001b[0m\u001b[0mkwargs\u001b[0m\u001b[0;34m)\u001b[0m\u001b[0;34m\u001b[0m\u001b[0;34m\u001b[0m\u001b[0m\n",
       "\u001b[0;31mDocstring:\u001b[0m Same as lcls_archiver_history, but returns a dataframe with the index as the time. \n",
       "\u001b[0;31mFile:\u001b[0m      ~/Code/GitHub/lcls-live/lcls_live/archiver.py\n",
       "\u001b[0;31mType:\u001b[0m      function\n"
      ]
     },
     "metadata": {},
     "output_type": "display_data"
    }
   ],
   "source": [
    "?lcls_archiver_history_dataframe"
   ]
  },
  {
   "cell_type": "code",
   "execution_count": 11,
   "metadata": {},
   "outputs": [
    {
     "name": "stdout",
     "output_type": "stream",
     "text": [
      "http://lcls-archapp.slac.stanford.edu/retrieval/data/getData.json?pv=YAGS:IN20:241:YRMS&from=2020-07-09T05:01:15.000000-07:00&to=2020-07-09T05:03:00.000000-07:00\n"
     ]
    },
    {
     "data": {
      "text/html": [
       "<div>\n",
       "<style scoped>\n",
       "    .dataframe tbody tr th:only-of-type {\n",
       "        vertical-align: middle;\n",
       "    }\n",
       "\n",
       "    .dataframe tbody tr th {\n",
       "        vertical-align: top;\n",
       "    }\n",
       "\n",
       "    .dataframe thead th {\n",
       "        text-align: right;\n",
       "    }\n",
       "</style>\n",
       "<table border=\"1\" class=\"dataframe\">\n",
       "  <thead>\n",
       "    <tr style=\"text-align: right;\">\n",
       "      <th></th>\n",
       "      <th>YAGS:IN20:241:YRMS</th>\n",
       "    </tr>\n",
       "    <tr>\n",
       "      <th>time</th>\n",
       "      <th></th>\n",
       "    </tr>\n",
       "  </thead>\n",
       "  <tbody>\n",
       "    <tr>\n",
       "      <th>2020-07-09 11:59:48</th>\n",
       "      <td>433.009985</td>\n",
       "    </tr>\n",
       "    <tr>\n",
       "      <th>2020-07-09 12:01:15</th>\n",
       "      <td>292.644774</td>\n",
       "    </tr>\n",
       "    <tr>\n",
       "      <th>2020-07-09 12:01:19</th>\n",
       "      <td>262.210378</td>\n",
       "    </tr>\n",
       "    <tr>\n",
       "      <th>2020-07-09 12:01:23</th>\n",
       "      <td>226.717519</td>\n",
       "    </tr>\n",
       "    <tr>\n",
       "      <th>2020-07-09 12:01:28</th>\n",
       "      <td>230.642901</td>\n",
       "    </tr>\n",
       "  </tbody>\n",
       "</table>\n",
       "</div>"
      ],
      "text/plain": [
       "                     YAGS:IN20:241:YRMS\n",
       "time                                   \n",
       "2020-07-09 11:59:48          433.009985\n",
       "2020-07-09 12:01:15          292.644774\n",
       "2020-07-09 12:01:19          262.210378\n",
       "2020-07-09 12:01:23          226.717519\n",
       "2020-07-09 12:01:28          230.642901"
      ]
     },
     "execution_count": 11,
     "metadata": {},
     "output_type": "execute_result"
    }
   ],
   "source": [
    "df1 = lcls_archiver_history_dataframe('YAGS:IN20:241:YRMS', start=t_start, end=t_end)\n",
    "df1[0:5]"
   ]
  },
  {
   "cell_type": "code",
   "execution_count": 12,
   "metadata": {},
   "outputs": [
    {
     "data": {
      "text/plain": [
       "<AxesSubplot:xlabel='time'>"
      ]
     },
     "execution_count": 12,
     "metadata": {},
     "output_type": "execute_result"
    },
    {
     "data": {
      "image/png": "[encoded data removed]",
      "text/plain": [
       "<Figure size 432x288 with 1 Axes>"
      ]
     },
     "metadata": {
      "image/png": {
       "height": 261,
       "width": 385
      },
      "needs_background": "light"
     },
     "output_type": "display_data"
    }
   ],
   "source": [
    "# Pandas has convenient plotting\n",
    "df1.plot()"
   ]
  },
  {
   "cell_type": "markdown",
   "metadata": {},
   "source": [
    "# Aligning the history of two PVs\n",
    "\n",
    "The returned data will not necessarily be time-aligned. Here we will use Pandas' interpolate capabilities to fill in missing data.\n"
   ]
  },
  {
   "cell_type": "code",
   "execution_count": 13,
   "metadata": {},
   "outputs": [],
   "source": [
    "import pandas as pd"
   ]
  },
  {
   "cell_type": "code",
   "execution_count": 14,
   "metadata": {},
   "outputs": [
    {
     "name": "stdout",
     "output_type": "stream",
     "text": [
      "http://lcls-archapp.slac.stanford.edu/retrieval/data/getData.json?pv=SOLN:IN20:121:BDES&from=2020-07-09T05:01:15.000000-07:00&to=2020-07-09T05:03:00.000000-07:00\n"
     ]
    },
    {
     "data": {
      "text/html": [
       "<div>\n",
       "<style scoped>\n",
       "    .dataframe tbody tr th:only-of-type {\n",
       "        vertical-align: middle;\n",
       "    }\n",
       "\n",
       "    .dataframe tbody tr th {\n",
       "        vertical-align: top;\n",
       "    }\n",
       "\n",
       "    .dataframe thead th {\n",
       "        text-align: right;\n",
       "    }\n",
       "</style>\n",
       "<table border=\"1\" class=\"dataframe\">\n",
       "  <thead>\n",
       "    <tr style=\"text-align: right;\">\n",
       "      <th></th>\n",
       "      <th>SOLN:IN20:121:BDES</th>\n",
       "    </tr>\n",
       "    <tr>\n",
       "      <th>time</th>\n",
       "      <th></th>\n",
       "    </tr>\n",
       "  </thead>\n",
       "  <tbody>\n",
       "    <tr>\n",
       "      <th>2020-07-09 12:01:11</th>\n",
       "      <td>0.470000</td>\n",
       "    </tr>\n",
       "    <tr>\n",
       "      <th>2020-07-09 12:01:15</th>\n",
       "      <td>0.472250</td>\n",
       "    </tr>\n",
       "    <tr>\n",
       "      <th>2020-07-09 12:01:19</th>\n",
       "      <td>0.474500</td>\n",
       "    </tr>\n",
       "    <tr>\n",
       "      <th>2020-07-09 12:01:24</th>\n",
       "      <td>0.476750</td>\n",
       "    </tr>\n",
       "    <tr>\n",
       "      <th>2020-07-09 12:01:28</th>\n",
       "      <td>0.479000</td>\n",
       "    </tr>\n",
       "    <tr>\n",
       "      <th>2020-07-09 12:01:32</th>\n",
       "      <td>0.481250</td>\n",
       "    </tr>\n",
       "    <tr>\n",
       "      <th>2020-07-09 12:01:37</th>\n",
       "      <td>0.483500</td>\n",
       "    </tr>\n",
       "    <tr>\n",
       "      <th>2020-07-09 12:01:41</th>\n",
       "      <td>0.485750</td>\n",
       "    </tr>\n",
       "    <tr>\n",
       "      <th>2020-07-09 12:01:46</th>\n",
       "      <td>0.488000</td>\n",
       "    </tr>\n",
       "    <tr>\n",
       "      <th>2020-07-09 12:01:50</th>\n",
       "      <td>0.465016</td>\n",
       "    </tr>\n",
       "  </tbody>\n",
       "</table>\n",
       "</div>"
      ],
      "text/plain": [
       "                     SOLN:IN20:121:BDES\n",
       "time                                   \n",
       "2020-07-09 12:01:11            0.470000\n",
       "2020-07-09 12:01:15            0.472250\n",
       "2020-07-09 12:01:19            0.474500\n",
       "2020-07-09 12:01:24            0.476750\n",
       "2020-07-09 12:01:28            0.479000\n",
       "2020-07-09 12:01:32            0.481250\n",
       "2020-07-09 12:01:37            0.483500\n",
       "2020-07-09 12:01:41            0.485750\n",
       "2020-07-09 12:01:46            0.488000\n",
       "2020-07-09 12:01:50            0.465016"
      ]
     },
     "execution_count": 14,
     "metadata": {},
     "output_type": "execute_result"
    }
   ],
   "source": [
    "# Try another PV. This one was smoothy scanned\n",
    "df2 = lcls_archiver_history_dataframe('SOLN:IN20:121:BDES', start=t_start, end=t_end)\n",
    "df2"
   ]
  },
  {
   "cell_type": "code",
   "execution_count": 15,
   "metadata": {},
   "outputs": [
    {
     "data": {
      "text/plain": [
       "<AxesSubplot:xlabel='time'>"
      ]
     },
     "execution_count": 15,
     "metadata": {},
     "output_type": "execute_result"
    },
    {
     "data": {
      "image/png": "[encoded data removed]",
      "text/plain": [
       "<Figure size 432x288 with 1 Axes>"
      ]
     },
     "metadata": {
      "image/png": {
       "height": 261,
       "width": 385
      },
      "needs_background": "light"
     },
     "output_type": "display_data"
    }
   ],
   "source": [
    "df2.plot()"
   ]
  },
  {
   "cell_type": "code",
   "execution_count": 16,
   "metadata": {},
   "outputs": [
    {
     "data": {
      "text/html": [
       "<div>\n",
       "<style scoped>\n",
       "    .dataframe tbody tr th:only-of-type {\n",
       "        vertical-align: middle;\n",
       "    }\n",
       "\n",
       "    .dataframe tbody tr th {\n",
       "        vertical-align: top;\n",
       "    }\n",
       "\n",
       "    .dataframe thead th {\n",
       "        text-align: right;\n",
       "    }\n",
       "</style>\n",
       "<table border=\"1\" class=\"dataframe\">\n",
       "  <thead>\n",
       "    <tr style=\"text-align: right;\">\n",
       "      <th></th>\n",
       "      <th>YAGS:IN20:241:YRMS</th>\n",
       "      <th>SOLN:IN20:121:BDES</th>\n",
       "    </tr>\n",
       "    <tr>\n",
       "      <th>time</th>\n",
       "      <th></th>\n",
       "      <th></th>\n",
       "    </tr>\n",
       "  </thead>\n",
       "  <tbody>\n",
       "    <tr>\n",
       "      <th>2020-07-09 11:59:48</th>\n",
       "      <td>433.009985</td>\n",
       "      <td>NaN</td>\n",
       "    </tr>\n",
       "    <tr>\n",
       "      <th>2020-07-09 12:01:11</th>\n",
       "      <td>NaN</td>\n",
       "      <td>0.470000</td>\n",
       "    </tr>\n",
       "    <tr>\n",
       "      <th>2020-07-09 12:01:15</th>\n",
       "      <td>292.644774</td>\n",
       "      <td>0.472250</td>\n",
       "    </tr>\n",
       "    <tr>\n",
       "      <th>2020-07-09 12:01:19</th>\n",
       "      <td>262.210378</td>\n",
       "      <td>0.474500</td>\n",
       "    </tr>\n",
       "    <tr>\n",
       "      <th>2020-07-09 12:01:23</th>\n",
       "      <td>226.717519</td>\n",
       "      <td>NaN</td>\n",
       "    </tr>\n",
       "    <tr>\n",
       "      <th>2020-07-09 12:01:24</th>\n",
       "      <td>NaN</td>\n",
       "      <td>0.476750</td>\n",
       "    </tr>\n",
       "    <tr>\n",
       "      <th>2020-07-09 12:01:28</th>\n",
       "      <td>230.642901</td>\n",
       "      <td>0.479000</td>\n",
       "    </tr>\n",
       "    <tr>\n",
       "      <th>2020-07-09 12:01:32</th>\n",
       "      <td>243.905289</td>\n",
       "      <td>0.481250</td>\n",
       "    </tr>\n",
       "    <tr>\n",
       "      <th>2020-07-09 12:01:37</th>\n",
       "      <td>NaN</td>\n",
       "      <td>0.483500</td>\n",
       "    </tr>\n",
       "    <tr>\n",
       "      <th>2020-07-09 12:01:41</th>\n",
       "      <td>342.439957</td>\n",
       "      <td>0.485750</td>\n",
       "    </tr>\n",
       "    <tr>\n",
       "      <th>2020-07-09 12:01:45</th>\n",
       "      <td>427.501542</td>\n",
       "      <td>NaN</td>\n",
       "    </tr>\n",
       "    <tr>\n",
       "      <th>2020-07-09 12:01:46</th>\n",
       "      <td>NaN</td>\n",
       "      <td>0.488000</td>\n",
       "    </tr>\n",
       "    <tr>\n",
       "      <th>2020-07-09 12:01:49</th>\n",
       "      <td>486.459644</td>\n",
       "      <td>NaN</td>\n",
       "    </tr>\n",
       "    <tr>\n",
       "      <th>2020-07-09 12:01:50</th>\n",
       "      <td>NaN</td>\n",
       "      <td>0.465016</td>\n",
       "    </tr>\n",
       "  </tbody>\n",
       "</table>\n",
       "</div>"
      ],
      "text/plain": [
       "                     YAGS:IN20:241:YRMS  SOLN:IN20:121:BDES\n",
       "time                                                       \n",
       "2020-07-09 11:59:48          433.009985                 NaN\n",
       "2020-07-09 12:01:11                 NaN            0.470000\n",
       "2020-07-09 12:01:15          292.644774            0.472250\n",
       "2020-07-09 12:01:19          262.210378            0.474500\n",
       "2020-07-09 12:01:23          226.717519                 NaN\n",
       "2020-07-09 12:01:24                 NaN            0.476750\n",
       "2020-07-09 12:01:28          230.642901            0.479000\n",
       "2020-07-09 12:01:32          243.905289            0.481250\n",
       "2020-07-09 12:01:37                 NaN            0.483500\n",
       "2020-07-09 12:01:41          342.439957            0.485750\n",
       "2020-07-09 12:01:45          427.501542                 NaN\n",
       "2020-07-09 12:01:46                 NaN            0.488000\n",
       "2020-07-09 12:01:49          486.459644                 NaN\n",
       "2020-07-09 12:01:50                 NaN            0.465016"
      ]
     },
     "execution_count": 16,
     "metadata": {},
     "output_type": "execute_result"
    }
   ],
   "source": [
    "# Notice that some data are taken at the same time, others are not\n",
    "df4 = pd.concat([df1, df2], axis=1)\n",
    "df4"
   ]
  },
  {
   "cell_type": "code",
   "execution_count": 17,
   "metadata": {},
   "outputs": [
    {
     "data": {
      "text/html": [
       "<div>\n",
       "<style scoped>\n",
       "    .dataframe tbody tr th:only-of-type {\n",
       "        vertical-align: middle;\n",
       "    }\n",
       "\n",
       "    .dataframe tbody tr th {\n",
       "        vertical-align: top;\n",
       "    }\n",
       "\n",
       "    .dataframe thead th {\n",
       "        text-align: right;\n",
       "    }\n",
       "</style>\n",
       "<table border=\"1\" class=\"dataframe\">\n",
       "  <thead>\n",
       "    <tr style=\"text-align: right;\">\n",
       "      <th></th>\n",
       "      <th>YAGS:IN20:241:YRMS</th>\n",
       "      <th>SOLN:IN20:121:BDES</th>\n",
       "    </tr>\n",
       "    <tr>\n",
       "      <th>time</th>\n",
       "      <th></th>\n",
       "      <th></th>\n",
       "    </tr>\n",
       "  </thead>\n",
       "  <tbody>\n",
       "    <tr>\n",
       "      <th>2020-07-09 12:01:11</th>\n",
       "      <td>362.827380</td>\n",
       "      <td>0.470000</td>\n",
       "    </tr>\n",
       "    <tr>\n",
       "      <th>2020-07-09 12:01:15</th>\n",
       "      <td>292.644774</td>\n",
       "      <td>0.472250</td>\n",
       "    </tr>\n",
       "    <tr>\n",
       "      <th>2020-07-09 12:01:19</th>\n",
       "      <td>262.210378</td>\n",
       "      <td>0.474500</td>\n",
       "    </tr>\n",
       "    <tr>\n",
       "      <th>2020-07-09 12:01:23</th>\n",
       "      <td>226.717519</td>\n",
       "      <td>0.475625</td>\n",
       "    </tr>\n",
       "    <tr>\n",
       "      <th>2020-07-09 12:01:24</th>\n",
       "      <td>228.680210</td>\n",
       "      <td>0.476750</td>\n",
       "    </tr>\n",
       "    <tr>\n",
       "      <th>2020-07-09 12:01:28</th>\n",
       "      <td>230.642901</td>\n",
       "      <td>0.479000</td>\n",
       "    </tr>\n",
       "    <tr>\n",
       "      <th>2020-07-09 12:01:32</th>\n",
       "      <td>243.905289</td>\n",
       "      <td>0.481250</td>\n",
       "    </tr>\n",
       "    <tr>\n",
       "      <th>2020-07-09 12:01:37</th>\n",
       "      <td>293.172623</td>\n",
       "      <td>0.483500</td>\n",
       "    </tr>\n",
       "    <tr>\n",
       "      <th>2020-07-09 12:01:41</th>\n",
       "      <td>342.439957</td>\n",
       "      <td>0.485750</td>\n",
       "    </tr>\n",
       "    <tr>\n",
       "      <th>2020-07-09 12:01:45</th>\n",
       "      <td>427.501542</td>\n",
       "      <td>0.486875</td>\n",
       "    </tr>\n",
       "    <tr>\n",
       "      <th>2020-07-09 12:01:46</th>\n",
       "      <td>456.980593</td>\n",
       "      <td>0.488000</td>\n",
       "    </tr>\n",
       "    <tr>\n",
       "      <th>2020-07-09 12:01:49</th>\n",
       "      <td>486.459644</td>\n",
       "      <td>0.476508</td>\n",
       "    </tr>\n",
       "    <tr>\n",
       "      <th>2020-07-09 12:01:50</th>\n",
       "      <td>486.459644</td>\n",
       "      <td>0.465016</td>\n",
       "    </tr>\n",
       "  </tbody>\n",
       "</table>\n",
       "</div>"
      ],
      "text/plain": [
       "                     YAGS:IN20:241:YRMS  SOLN:IN20:121:BDES\n",
       "time                                                       \n",
       "2020-07-09 12:01:11          362.827380            0.470000\n",
       "2020-07-09 12:01:15          292.644774            0.472250\n",
       "2020-07-09 12:01:19          262.210378            0.474500\n",
       "2020-07-09 12:01:23          226.717519            0.475625\n",
       "2020-07-09 12:01:24          228.680210            0.476750\n",
       "2020-07-09 12:01:28          230.642901            0.479000\n",
       "2020-07-09 12:01:32          243.905289            0.481250\n",
       "2020-07-09 12:01:37          293.172623            0.483500\n",
       "2020-07-09 12:01:41          342.439957            0.485750\n",
       "2020-07-09 12:01:45          427.501542            0.486875\n",
       "2020-07-09 12:01:46          456.980593            0.488000\n",
       "2020-07-09 12:01:49          486.459644            0.476508\n",
       "2020-07-09 12:01:50          486.459644            0.465016"
      ]
     },
     "execution_count": 17,
     "metadata": {},
     "output_type": "execute_result"
    }
   ],
   "source": [
    "# This will fill in the missing  values, and drop trailing NaNs\n",
    "df5 = df4.interpolate().dropna()\n",
    "df5"
   ]
  },
  {
   "cell_type": "code",
   "execution_count": 18,
   "metadata": {},
   "outputs": [
    {
     "data": {
      "text/plain": [
       "<matplotlib.collections.PathCollection at 0x15e71ffd0>"
      ]
     },
     "execution_count": 18,
     "metadata": {},
     "output_type": "execute_result"
    },
    {
     "data": {
      "image/png": "[encoded data removed]",
      "text/plain": [
       "<Figure size 432x288 with 1 Axes>"
      ]
     },
     "metadata": {
      "image/png": {
       "height": 291,
       "width": 388
      },
      "needs_background": "light"
     },
     "output_type": "display_data"
    }
   ],
   "source": [
    "# make a plot\n",
    "DF = df5[:-2] # The last two points are outside the main scan. \n",
    "k1 = 'SOLN:IN20:121:BDES'\n",
    "k2 = 'YAGS:IN20:241:YRMS'\n",
    "plt.xlabel(k1)\n",
    "plt.ylabel(k2)\n",
    "plt.title(t_start+'\\n to '+t_end)\n",
    "plt.scatter(DF[k1], DF[k2], marker='.', color='black')"
   ]
  },
  {
   "cell_type": "markdown",
   "metadata": {},
   "source": [
    "# This easily extends to a list"
   ]
  },
  {
   "cell_type": "code",
   "execution_count": 19,
   "metadata": {},
   "outputs": [
    {
     "name": "stdout",
     "output_type": "stream",
     "text": [
      "http://lcls-archapp.slac.stanford.edu/retrieval/data/getData.json?pv=SOLN:IN20:121:BDES&from=2020-07-09T05:01:15.000000-07:00&to=2020-07-09T05:03:00.000000-07:00\n",
      "http://lcls-archapp.slac.stanford.edu/retrieval/data/getData.json?pv=YAGS:IN20:241:XRMS&from=2020-07-09T05:01:15.000000-07:00&to=2020-07-09T05:03:00.000000-07:00\n",
      "http://lcls-archapp.slac.stanford.edu/retrieval/data/getData.json?pv=YAGS:IN20:241:YRMS&from=2020-07-09T05:01:15.000000-07:00&to=2020-07-09T05:03:00.000000-07:00\n"
     ]
    }
   ],
   "source": [
    "pvlist = ['SOLN:IN20:121:BDES', 'YAGS:IN20:241:XRMS', 'YAGS:IN20:241:YRMS']\n",
    "\n",
    "dflist = []\n",
    "for pvname in pvlist:\n",
    "    dflist.append(lcls_archiver_history_dataframe(pvname, start=t_start, end=t_end))\n",
    "df6 = pd.concat(dflist, axis=1).interpolate().dropna()"
   ]
  },
  {
   "cell_type": "code",
   "execution_count": 20,
   "metadata": {},
   "outputs": [
    {
     "data": {
      "text/html": [
       "<div>\n",
       "<style scoped>\n",
       "    .dataframe tbody tr th:only-of-type {\n",
       "        vertical-align: middle;\n",
       "    }\n",
       "\n",
       "    .dataframe tbody tr th {\n",
       "        vertical-align: top;\n",
       "    }\n",
       "\n",
       "    .dataframe thead th {\n",
       "        text-align: right;\n",
       "    }\n",
       "</style>\n",
       "<table border=\"1\" class=\"dataframe\">\n",
       "  <thead>\n",
       "    <tr style=\"text-align: right;\">\n",
       "      <th></th>\n",
       "      <th>SOLN:IN20:121:BDES</th>\n",
       "      <th>YAGS:IN20:241:XRMS</th>\n",
       "      <th>YAGS:IN20:241:YRMS</th>\n",
       "    </tr>\n",
       "    <tr>\n",
       "      <th>time</th>\n",
       "      <th></th>\n",
       "      <th></th>\n",
       "      <th></th>\n",
       "    </tr>\n",
       "  </thead>\n",
       "  <tbody>\n",
       "    <tr>\n",
       "      <th>2020-07-09 12:01:11</th>\n",
       "      <td>0.470000</td>\n",
       "      <td>393.366373</td>\n",
       "      <td>362.827380</td>\n",
       "    </tr>\n",
       "    <tr>\n",
       "      <th>2020-07-09 12:01:15</th>\n",
       "      <td>0.472250</td>\n",
       "      <td>325.602016</td>\n",
       "      <td>292.644774</td>\n",
       "    </tr>\n",
       "    <tr>\n",
       "      <th>2020-07-09 12:01:19</th>\n",
       "      <td>0.474500</td>\n",
       "      <td>297.144936</td>\n",
       "      <td>262.210378</td>\n",
       "    </tr>\n",
       "    <tr>\n",
       "      <th>2020-07-09 12:01:23</th>\n",
       "      <td>0.475625</td>\n",
       "      <td>269.941236</td>\n",
       "      <td>226.717519</td>\n",
       "    </tr>\n",
       "    <tr>\n",
       "      <th>2020-07-09 12:01:24</th>\n",
       "      <td>0.476750</td>\n",
       "      <td>262.813117</td>\n",
       "      <td>228.680210</td>\n",
       "    </tr>\n",
       "    <tr>\n",
       "      <th>2020-07-09 12:01:28</th>\n",
       "      <td>0.479000</td>\n",
       "      <td>255.684997</td>\n",
       "      <td>230.642901</td>\n",
       "    </tr>\n",
       "    <tr>\n",
       "      <th>2020-07-09 12:01:32</th>\n",
       "      <td>0.481250</td>\n",
       "      <td>246.747285</td>\n",
       "      <td>243.905289</td>\n",
       "    </tr>\n",
       "    <tr>\n",
       "      <th>2020-07-09 12:01:36</th>\n",
       "      <td>0.482375</td>\n",
       "      <td>266.423525</td>\n",
       "      <td>276.750178</td>\n",
       "    </tr>\n",
       "    <tr>\n",
       "      <th>2020-07-09 12:01:37</th>\n",
       "      <td>0.483500</td>\n",
       "      <td>279.129956</td>\n",
       "      <td>309.595068</td>\n",
       "    </tr>\n",
       "    <tr>\n",
       "      <th>2020-07-09 12:01:41</th>\n",
       "      <td>0.485750</td>\n",
       "      <td>291.836386</td>\n",
       "      <td>342.439957</td>\n",
       "    </tr>\n",
       "    <tr>\n",
       "      <th>2020-07-09 12:01:45</th>\n",
       "      <td>0.486875</td>\n",
       "      <td>335.522076</td>\n",
       "      <td>427.501542</td>\n",
       "    </tr>\n",
       "    <tr>\n",
       "      <th>2020-07-09 12:01:46</th>\n",
       "      <td>0.488000</td>\n",
       "      <td>367.396032</td>\n",
       "      <td>456.980593</td>\n",
       "    </tr>\n",
       "    <tr>\n",
       "      <th>2020-07-09 12:01:49</th>\n",
       "      <td>0.476508</td>\n",
       "      <td>399.269987</td>\n",
       "      <td>486.459644</td>\n",
       "    </tr>\n",
       "    <tr>\n",
       "      <th>2020-07-09 12:01:50</th>\n",
       "      <td>0.465016</td>\n",
       "      <td>399.269987</td>\n",
       "      <td>486.459644</td>\n",
       "    </tr>\n",
       "  </tbody>\n",
       "</table>\n",
       "</div>"
      ],
      "text/plain": [
       "                     SOLN:IN20:121:BDES  YAGS:IN20:241:XRMS  \\\n",
       "time                                                          \n",
       "2020-07-09 12:01:11            0.470000          393.366373   \n",
       "2020-07-09 12:01:15            0.472250          325.602016   \n",
       "2020-07-09 12:01:19            0.474500          297.144936   \n",
       "2020-07-09 12:01:23            0.475625          269.941236   \n",
       "2020-07-09 12:01:24            0.476750          262.813117   \n",
       "2020-07-09 12:01:28            0.479000          255.684997   \n",
       "2020-07-09 12:01:32            0.481250          246.747285   \n",
       "2020-07-09 12:01:36            0.482375          266.423525   \n",
       "2020-07-09 12:01:37            0.483500          279.129956   \n",
       "2020-07-09 12:01:41            0.485750          291.836386   \n",
       "2020-07-09 12:01:45            0.486875          335.522076   \n",
       "2020-07-09 12:01:46            0.488000          367.396032   \n",
       "2020-07-09 12:01:49            0.476508          399.269987   \n",
       "2020-07-09 12:01:50            0.465016          399.269987   \n",
       "\n",
       "                     YAGS:IN20:241:YRMS  \n",
       "time                                     \n",
       "2020-07-09 12:01:11          362.827380  \n",
       "2020-07-09 12:01:15          292.644774  \n",
       "2020-07-09 12:01:19          262.210378  \n",
       "2020-07-09 12:01:23          226.717519  \n",
       "2020-07-09 12:01:24          228.680210  \n",
       "2020-07-09 12:01:28          230.642901  \n",
       "2020-07-09 12:01:32          243.905289  \n",
       "2020-07-09 12:01:36          276.750178  \n",
       "2020-07-09 12:01:37          309.595068  \n",
       "2020-07-09 12:01:41          342.439957  \n",
       "2020-07-09 12:01:45          427.501542  \n",
       "2020-07-09 12:01:46          456.980593  \n",
       "2020-07-09 12:01:49          486.459644  \n",
       "2020-07-09 12:01:50          486.459644  "
      ]
     },
     "execution_count": 20,
     "metadata": {},
     "output_type": "execute_result"
    }
   ],
   "source": [
    "df6 "
   ]
  },
  {
   "cell_type": "code",
   "execution_count": 21,
   "metadata": {},
   "outputs": [
    {
     "data": {
      "text/plain": [
       "<matplotlib.legend.Legend at 0x15e782b80>"
      ]
     },
     "execution_count": 21,
     "metadata": {},
     "output_type": "execute_result"
    },
    {
     "data": {
      "image/png": "[encoded data removed]",
      "text/plain": [
       "<Figure size 432x288 with 1 Axes>"
      ]
     },
     "metadata": {
      "image/png": {
       "height": 291,
       "width": 388
      },
      "needs_background": "light"
     },
     "output_type": "display_data"
    }
   ],
   "source": [
    "DF = df6[:-2] # Drop the last two that are unrelated to the scan\n",
    "k1 = 'SOLN:IN20:121:BDES'\n",
    "k2 = 'YAGS:IN20:241:XRMS'\n",
    "k3 = 'YAGS:IN20:241:YRMS'\n",
    "plt.xlabel(k1+' (kG-m)')\n",
    "plt.ylabel('Measurement (um)')\n",
    "plt.title(t_start+'\\n to '+t_end)\n",
    "\n",
    "X1 = DF[k1]\n",
    "X2 = DF[k2]\n",
    "X3 = DF[k3]\n",
    "\n",
    "plt.scatter(X1, X2, marker='x', color='blue', label=k2)\n",
    "plt.scatter(X1, X3, marker='x', color='green', label=k3)\n",
    "plt.legend()"
   ]
  }
 ],
 "metadata": {
  "kernelspec": {
   "display_name": "Python 3",
   "language": "python",
   "name": "python3"
  },
  "language_info": {
   "codemirror_mode": {
    "name": "ipython",
    "version": 3
   },
   "file_extension": ".py",
   "mimetype": "text/x-python",
   "name": "python",
   "nbconvert_exporter": "python",
   "pygments_lexer": "ipython3",
   "version": "3.9.2"
  }
 },
 "nbformat": 4,
 "nbformat_minor": 4
}
