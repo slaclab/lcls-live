{
 "cells": [
  {
   "cell_type": "code",
   "execution_count": 1,
   "metadata": {},
   "outputs": [],
   "source": [
    "# Useful for debugging\n",
    "%load_ext autoreload\n",
    "%autoreload 2"
   ]
  },
  {
   "cell_type": "markdown",
   "metadata": {},
   "source": [
    "# Bmad examples"
   ]
  },
  {
   "cell_type": "code",
   "execution_count": 2,
   "metadata": {},
   "outputs": [],
   "source": [
    "from lcls_live.bmad.classic.tools import bmad_klystron_lines, write_bmad_klystron_settings, bmad_linac_phasing_lines, write_bmad_linac_phasing_lines, tao_BC_and_LEM_lines, write_tao_BC_and_LEM_lines\n",
    "#from lcls_live.bmad.classic.tools import bmad_collimator_lines\n",
    "from lcls_live.klystron import Klystron, existing_LCLS_klystrons\n",
    "from lcls_live.epics import epics_proxy\n",
    "import json\n",
    "import os"
   ]
  },
  {
   "cell_type": "code",
   "execution_count": 3,
   "metadata": {},
   "outputs": [
    {
     "name": "stdout",
     "output_type": "stream",
     "text": [
      "Loaded data/epics_snapshot_2018-03-06T15:21:15.000000-08:00.json with 2068 PVs\n"
     ]
    }
   ],
   "source": [
    "# Proxy setup\n",
    "epics = epics_proxy('data/epics_snapshot_2018-03-06T15:21:15.000000-08:00.json', verbose=True)"
   ]
  },
  {
   "cell_type": "markdown",
   "metadata": {},
   "source": [
    "# Linac"
   ]
  },
  {
   "cell_type": "code",
   "execution_count": 4,
   "metadata": {},
   "outputs": [],
   "source": [
    "# List of Klystron objects\n",
    "klist = existing_LCLS_klystrons(epics)"
   ]
  },
  {
   "cell_type": "code",
   "execution_count": 5,
   "metadata": {},
   "outputs": [
    {
     "data": {
      "text/plain": [
       "['!---------------',\n",
       " '! K22_3',\n",
       " 'O_K22_3[ENLD_MeV] = 210.644',\n",
       " 'O_K22_3[phase_deg] = -0.0376129150390625']"
      ]
     },
     "execution_count": 5,
     "metadata": {},
     "output_type": "execute_result"
    }
   ],
   "source": [
    "# Bmad lines for one klystron\n",
    "bmad_klystron_lines(klist[10])"
   ]
  },
  {
   "cell_type": "code",
   "execution_count": 6,
   "metadata": {},
   "outputs": [
    {
     "name": "stdout",
     "output_type": "stream",
     "text": [
      "Written: klystron_settings.bmad\n"
     ]
    }
   ],
   "source": [
    "write_bmad_klystron_settings(klist, filePath='klystron_settings.bmad', verbose=True)"
   ]
  },
  {
   "cell_type": "code",
   "execution_count": 7,
   "metadata": {},
   "outputs": [
    {
     "data": {
      "text/plain": [
       "['! Linac overall phasing',\n",
       " 'O_L1[phase_deg] = 0 ! K21_1 sets this directly. This is a delta on top of that.',\n",
       " 'O_L2[phase_deg] = -31.773465756544063',\n",
       " 'O_L3[phase_deg] = -8.0']"
      ]
     },
     "execution_count": 7,
     "metadata": {},
     "output_type": "execute_result"
    }
   ],
   "source": [
    "bmad_linac_phasing_lines(epics)"
   ]
  },
  {
   "cell_type": "code",
   "execution_count": 8,
   "metadata": {},
   "outputs": [
    {
     "name": "stdout",
     "output_type": "stream",
     "text": [
      "Written: linac_settings.bmad\n"
     ]
    }
   ],
   "source": [
    "write_bmad_linac_phasing_lines(filePath='linac_settings.bmad', epics=epics, verbose=True)"
   ]
  },
  {
   "cell_type": "code",
   "execution_count": 9,
   "metadata": {},
   "outputs": [],
   "source": [
    "# Cleanup\n",
    "os.remove('klystron_settings.bmad')\n",
    "os.remove('linac_settings.bmad')"
   ]
  },
  {
   "cell_type": "markdown",
   "metadata": {},
   "source": [
    "# Tao LEM and Bunch Compressor settings"
   ]
  },
  {
   "cell_type": "code",
   "execution_count": 10,
   "metadata": {},
   "outputs": [
    {
     "data": {
      "text/plain": [
       "['set dat BC1.energy[1]|meas = 220038515.89541337',\n",
       " 'set dat BC2.energy[1]|meas = 5000084964.69758',\n",
       " 'set dat L3.energy[2]|meas = 14429000000.0',\n",
       " 'set dat BC1.offset[1]|meas = 0.24763859750636236',\n",
       " 'set dat BC2.offset[1]|meas = 0.38501205883567324',\n",
       " '! Charge after horn cutting:      178.1 pC',\n",
       " '! For BC1 current 220.6596353167397 A',\n",
       " 'set dat BC1.beam[1]|meas = 7.651311099276582e-05',\n",
       " '! For BC2 current 4510.379420893232 A',\n",
       " 'set dat BC2.beam[1]|meas = 3.4170792924812643e-06']"
      ]
     },
     "execution_count": 10,
     "metadata": {},
     "output_type": "execute_result"
    }
   ],
   "source": [
    "tao_BC_and_LEM_lines(epics)"
   ]
  },
  {
   "cell_type": "code",
   "execution_count": 11,
   "metadata": {},
   "outputs": [
    {
     "name": "stdout",
     "output_type": "stream",
     "text": [
      "Written: set_LEM_energies.tao\n"
     ]
    },
    {
     "data": {
      "text/plain": [
       "['set dat BC1.energy[1]|meas = 220038515.89541337',\n",
       " 'set dat BC2.energy[1]|meas = 5000084964.69758',\n",
       " 'set dat L3.energy[2]|meas = 14429000000.0',\n",
       " 'set dat BC1.offset[1]|meas = 0.24763859750636236',\n",
       " 'set dat BC2.offset[1]|meas = 0.38501205883567324',\n",
       " '! Charge after horn cutting:      178.1 pC',\n",
       " '! For BC1 current 220.6596353167397 A',\n",
       " 'set dat BC1.beam[1]|meas = 7.651311099276582e-05',\n",
       " '! For BC2 current 4510.379420893232 A',\n",
       " 'set dat BC2.beam[1]|meas = 3.4170792924812643e-06']"
      ]
     },
     "execution_count": 11,
     "metadata": {},
     "output_type": "execute_result"
    }
   ],
   "source": [
    "write_tao_BC_and_LEM_lines(filePath='set_LEM_energies.tao', epics=epics, verbose=True)"
   ]
  },
  {
   "cell_type": "code",
   "execution_count": 12,
   "metadata": {},
   "outputs": [],
   "source": [
    "# cleanup\n",
    "os.remove('set_LEM_energies.tao')"
   ]
  },
  {
   "cell_type": "markdown",
   "metadata": {},
   "source": [
    "# Collimators"
   ]
  },
  {
   "cell_type": "code",
   "execution_count": 13,
   "metadata": {},
   "outputs": [],
   "source": [
    "#bmad_collimator_lines(epics)"
   ]
  },
  {
   "cell_type": "markdown",
   "metadata": {},
   "source": [
    "# Quads"
   ]
  },
  {
   "cell_type": "code",
   "execution_count": 14,
   "metadata": {},
   "outputs": [],
   "source": [
    "madnames = json.load(open('data/madname_pvs.json'))"
   ]
  }
 ],
 "metadata": {
  "kernelspec": {
   "display_name": "Python 3",
   "language": "python",
   "name": "python3"
  },
  "language_info": {
   "codemirror_mode": {
    "name": "ipython",
    "version": 3
   },
   "file_extension": ".py",
   "mimetype": "text/x-python",
   "name": "python",
   "nbconvert_exporter": "python",
   "pygments_lexer": "ipython3",
   "version": "3.9.2"
  }
 },
 "nbformat": 4,
 "nbformat_minor": 4
}
